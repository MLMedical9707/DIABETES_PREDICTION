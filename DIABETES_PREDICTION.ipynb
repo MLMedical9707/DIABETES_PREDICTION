{
 "cells": [
  {
   "cell_type": "markdown",
   "id": "b55f7531-066d-4a2b-af06-231a7dd07e01",
   "metadata": {},
   "source": [
    "# 데이터 불러오기"
   ]
  },
  {
   "cell_type": "code",
   "execution_count": 154,
   "id": "146edec7-d808-43e1-849d-cf9f0eeb7f52",
   "metadata": {},
   "outputs": [],
   "source": [
    "import pandas as pd\n",
    "\n",
    "#데이터 불러오기\n",
    "df = pd.read_csv(\"diabetes.csv\")"
   ]
  },
  {
   "cell_type": "markdown",
   "id": "e7a0dfc3-f82a-4b01-8323-2f5175c9b484",
   "metadata": {},
   "source": [
    "# Exploratory Data Analysis (EDA)"
   ]
  },
  {
   "cell_type": "markdown",
   "id": "bd652f37-384f-4488-9fbe-340f74c25e74",
   "metadata": {},
   "source": [
    "## 데이터 상위 5개 행 확인"
   ]
  },
  {
   "cell_type": "code",
   "execution_count": 155,
   "id": "33780150-13b2-4f5b-abbc-76f46d70d108",
   "metadata": {},
   "outputs": [
    {
     "data": {
      "text/html": [
       "<div>\n",
       "<style scoped>\n",
       "    .dataframe tbody tr th:only-of-type {\n",
       "        vertical-align: middle;\n",
       "    }\n",
       "\n",
       "    .dataframe tbody tr th {\n",
       "        vertical-align: top;\n",
       "    }\n",
       "\n",
       "    .dataframe thead th {\n",
       "        text-align: right;\n",
       "    }\n",
       "</style>\n",
       "<table border=\"1\" class=\"dataframe\">\n",
       "  <thead>\n",
       "    <tr style=\"text-align: right;\">\n",
       "      <th></th>\n",
       "      <th>Pregnancies</th>\n",
       "      <th>Glucose</th>\n",
       "      <th>BloodPressure</th>\n",
       "      <th>SkinThickness</th>\n",
       "      <th>Insulin</th>\n",
       "      <th>BMI</th>\n",
       "      <th>DiabetesPedigreeFunction</th>\n",
       "      <th>Age</th>\n",
       "      <th>Outcome</th>\n",
       "    </tr>\n",
       "  </thead>\n",
       "  <tbody>\n",
       "    <tr>\n",
       "      <th>0</th>\n",
       "      <td>6</td>\n",
       "      <td>148</td>\n",
       "      <td>72</td>\n",
       "      <td>35</td>\n",
       "      <td>0</td>\n",
       "      <td>33.6</td>\n",
       "      <td>0.627</td>\n",
       "      <td>50</td>\n",
       "      <td>1</td>\n",
       "    </tr>\n",
       "    <tr>\n",
       "      <th>1</th>\n",
       "      <td>1</td>\n",
       "      <td>85</td>\n",
       "      <td>66</td>\n",
       "      <td>29</td>\n",
       "      <td>0</td>\n",
       "      <td>26.6</td>\n",
       "      <td>0.351</td>\n",
       "      <td>31</td>\n",
       "      <td>0</td>\n",
       "    </tr>\n",
       "    <tr>\n",
       "      <th>2</th>\n",
       "      <td>8</td>\n",
       "      <td>183</td>\n",
       "      <td>64</td>\n",
       "      <td>0</td>\n",
       "      <td>0</td>\n",
       "      <td>23.3</td>\n",
       "      <td>0.672</td>\n",
       "      <td>32</td>\n",
       "      <td>1</td>\n",
       "    </tr>\n",
       "    <tr>\n",
       "      <th>3</th>\n",
       "      <td>1</td>\n",
       "      <td>89</td>\n",
       "      <td>66</td>\n",
       "      <td>23</td>\n",
       "      <td>94</td>\n",
       "      <td>28.1</td>\n",
       "      <td>0.167</td>\n",
       "      <td>21</td>\n",
       "      <td>0</td>\n",
       "    </tr>\n",
       "    <tr>\n",
       "      <th>4</th>\n",
       "      <td>0</td>\n",
       "      <td>137</td>\n",
       "      <td>40</td>\n",
       "      <td>35</td>\n",
       "      <td>168</td>\n",
       "      <td>43.1</td>\n",
       "      <td>2.288</td>\n",
       "      <td>33</td>\n",
       "      <td>1</td>\n",
       "    </tr>\n",
       "  </tbody>\n",
       "</table>\n",
       "</div>"
      ],
      "text/plain": [
       "   Pregnancies  Glucose  BloodPressure  SkinThickness  Insulin   BMI  \\\n",
       "0            6      148             72             35        0  33.6   \n",
       "1            1       85             66             29        0  26.6   \n",
       "2            8      183             64              0        0  23.3   \n",
       "3            1       89             66             23       94  28.1   \n",
       "4            0      137             40             35      168  43.1   \n",
       "\n",
       "   DiabetesPedigreeFunction  Age  Outcome  \n",
       "0                     0.627   50        1  \n",
       "1                     0.351   31        0  \n",
       "2                     0.672   32        1  \n",
       "3                     0.167   21        0  \n",
       "4                     2.288   33        1  "
      ]
     },
     "execution_count": 155,
     "metadata": {},
     "output_type": "execute_result"
    }
   ],
   "source": [
    "df.head()"
   ]
  },
  {
   "cell_type": "markdown",
   "id": "9494d697-fa45-4d1a-968a-bbff09ecf367",
   "metadata": {},
   "source": [
    "## 각 Feature의 의미\n",
    "\n",
    "- **Pregnancies**: 임신 횟수\n",
    "- **Glucose**: 혈당 수치\n",
    "- **BloodPressure**: 혈압 측정값\n",
    "- **SkinThickness**: 피부 두께\n",
    "- **Insulin**: 혈액 내 인슐린 수치\n",
    "- **BMI**: 체질량지수\n",
    "- **DiabetesPedigreeFunction**: 당뇨병 확률\n",
    "- **Age**: 나이\n",
    "- **Outcome**: 최종 결과 (1은 \"예\", 0은 \"아니오\"를 의미함)"
   ]
  },
  {
   "cell_type": "markdown",
   "id": "018e43eb-68c3-4028-b2d8-8f6bab078ac3",
   "metadata": {},
   "source": [
    "## 데이터 사이즈 확인"
   ]
  },
  {
   "cell_type": "code",
   "execution_count": 156,
   "id": "db316a71-5f27-4b9d-8ba7-efe9ab4e1861",
   "metadata": {},
   "outputs": [
    {
     "data": {
      "text/plain": [
       "(768, 9)"
      ]
     },
     "execution_count": 156,
     "metadata": {},
     "output_type": "execute_result"
    }
   ],
   "source": [
    "df.shape"
   ]
  },
  {
   "cell_type": "markdown",
   "id": "c9b2756b-6d8f-4853-9f92-25d00de4dc3d",
   "metadata": {},
   "source": [
    "## Null 데이터 및 데이터 타입 확인"
   ]
  },
  {
   "cell_type": "code",
   "execution_count": 157,
   "id": "9b81982b-b8b0-4857-ade8-fbeef7b80c67",
   "metadata": {},
   "outputs": [
    {
     "name": "stdout",
     "output_type": "stream",
     "text": [
      "<class 'pandas.core.frame.DataFrame'>\n",
      "RangeIndex: 768 entries, 0 to 767\n",
      "Data columns (total 9 columns):\n",
      " #   Column                    Non-Null Count  Dtype  \n",
      "---  ------                    --------------  -----  \n",
      " 0   Pregnancies               768 non-null    int64  \n",
      " 1   Glucose                   768 non-null    int64  \n",
      " 2   BloodPressure             768 non-null    int64  \n",
      " 3   SkinThickness             768 non-null    int64  \n",
      " 4   Insulin                   768 non-null    int64  \n",
      " 5   BMI                       768 non-null    float64\n",
      " 6   DiabetesPedigreeFunction  768 non-null    float64\n",
      " 7   Age                       768 non-null    int64  \n",
      " 8   Outcome                   768 non-null    int64  \n",
      "dtypes: float64(2), int64(7)\n",
      "memory usage: 54.1 KB\n"
     ]
    }
   ],
   "source": [
    "df.info()"
   ]
  },
  {
   "cell_type": "code",
   "execution_count": 158,
   "id": "7be78c08-5702-4fa8-8534-0841c1093260",
   "metadata": {},
   "outputs": [
    {
     "data": {
      "text/plain": [
       "Pregnancies                 0\n",
       "Glucose                     0\n",
       "BloodPressure               0\n",
       "SkinThickness               0\n",
       "Insulin                     0\n",
       "BMI                         0\n",
       "DiabetesPedigreeFunction    0\n",
       "Age                         0\n",
       "Outcome                     0\n",
       "dtype: int64"
      ]
     },
     "execution_count": 158,
     "metadata": {},
     "output_type": "execute_result"
    }
   ],
   "source": [
    "df.isnull().sum()"
   ]
  },
  {
   "cell_type": "code",
   "execution_count": 159,
   "id": "7ffbb0e9-099e-4c87-a735-460c7b06210f",
   "metadata": {},
   "outputs": [
    {
     "data": {
      "text/html": [
       "<div>\n",
       "<style scoped>\n",
       "    .dataframe tbody tr th:only-of-type {\n",
       "        vertical-align: middle;\n",
       "    }\n",
       "\n",
       "    .dataframe tbody tr th {\n",
       "        vertical-align: top;\n",
       "    }\n",
       "\n",
       "    .dataframe thead th {\n",
       "        text-align: right;\n",
       "    }\n",
       "</style>\n",
       "<table border=\"1\" class=\"dataframe\">\n",
       "  <thead>\n",
       "    <tr style=\"text-align: right;\">\n",
       "      <th></th>\n",
       "      <th>Pregnancies</th>\n",
       "      <th>Glucose</th>\n",
       "      <th>BloodPressure</th>\n",
       "      <th>SkinThickness</th>\n",
       "      <th>Insulin</th>\n",
       "      <th>BMI</th>\n",
       "      <th>DiabetesPedigreeFunction</th>\n",
       "      <th>Age</th>\n",
       "      <th>Outcome</th>\n",
       "    </tr>\n",
       "  </thead>\n",
       "  <tbody>\n",
       "    <tr>\n",
       "      <th>count</th>\n",
       "      <td>768.000000</td>\n",
       "      <td>768.000000</td>\n",
       "      <td>768.000000</td>\n",
       "      <td>768.000000</td>\n",
       "      <td>768.000000</td>\n",
       "      <td>768.000000</td>\n",
       "      <td>768.000000</td>\n",
       "      <td>768.000000</td>\n",
       "      <td>768.000000</td>\n",
       "    </tr>\n",
       "    <tr>\n",
       "      <th>mean</th>\n",
       "      <td>3.845052</td>\n",
       "      <td>120.894531</td>\n",
       "      <td>69.105469</td>\n",
       "      <td>20.536458</td>\n",
       "      <td>79.799479</td>\n",
       "      <td>31.992578</td>\n",
       "      <td>0.471876</td>\n",
       "      <td>33.240885</td>\n",
       "      <td>0.348958</td>\n",
       "    </tr>\n",
       "    <tr>\n",
       "      <th>std</th>\n",
       "      <td>3.369578</td>\n",
       "      <td>31.972618</td>\n",
       "      <td>19.355807</td>\n",
       "      <td>15.952218</td>\n",
       "      <td>115.244002</td>\n",
       "      <td>7.884160</td>\n",
       "      <td>0.331329</td>\n",
       "      <td>11.760232</td>\n",
       "      <td>0.476951</td>\n",
       "    </tr>\n",
       "    <tr>\n",
       "      <th>min</th>\n",
       "      <td>0.000000</td>\n",
       "      <td>0.000000</td>\n",
       "      <td>0.000000</td>\n",
       "      <td>0.000000</td>\n",
       "      <td>0.000000</td>\n",
       "      <td>0.000000</td>\n",
       "      <td>0.078000</td>\n",
       "      <td>21.000000</td>\n",
       "      <td>0.000000</td>\n",
       "    </tr>\n",
       "    <tr>\n",
       "      <th>25%</th>\n",
       "      <td>1.000000</td>\n",
       "      <td>99.000000</td>\n",
       "      <td>62.000000</td>\n",
       "      <td>0.000000</td>\n",
       "      <td>0.000000</td>\n",
       "      <td>27.300000</td>\n",
       "      <td>0.243750</td>\n",
       "      <td>24.000000</td>\n",
       "      <td>0.000000</td>\n",
       "    </tr>\n",
       "    <tr>\n",
       "      <th>50%</th>\n",
       "      <td>3.000000</td>\n",
       "      <td>117.000000</td>\n",
       "      <td>72.000000</td>\n",
       "      <td>23.000000</td>\n",
       "      <td>30.500000</td>\n",
       "      <td>32.000000</td>\n",
       "      <td>0.372500</td>\n",
       "      <td>29.000000</td>\n",
       "      <td>0.000000</td>\n",
       "    </tr>\n",
       "    <tr>\n",
       "      <th>75%</th>\n",
       "      <td>6.000000</td>\n",
       "      <td>140.250000</td>\n",
       "      <td>80.000000</td>\n",
       "      <td>32.000000</td>\n",
       "      <td>127.250000</td>\n",
       "      <td>36.600000</td>\n",
       "      <td>0.626250</td>\n",
       "      <td>41.000000</td>\n",
       "      <td>1.000000</td>\n",
       "    </tr>\n",
       "    <tr>\n",
       "      <th>max</th>\n",
       "      <td>17.000000</td>\n",
       "      <td>199.000000</td>\n",
       "      <td>122.000000</td>\n",
       "      <td>99.000000</td>\n",
       "      <td>846.000000</td>\n",
       "      <td>67.100000</td>\n",
       "      <td>2.420000</td>\n",
       "      <td>81.000000</td>\n",
       "      <td>1.000000</td>\n",
       "    </tr>\n",
       "  </tbody>\n",
       "</table>\n",
       "</div>"
      ],
      "text/plain": [
       "       Pregnancies     Glucose  BloodPressure  SkinThickness     Insulin  \\\n",
       "count   768.000000  768.000000     768.000000     768.000000  768.000000   \n",
       "mean      3.845052  120.894531      69.105469      20.536458   79.799479   \n",
       "std       3.369578   31.972618      19.355807      15.952218  115.244002   \n",
       "min       0.000000    0.000000       0.000000       0.000000    0.000000   \n",
       "25%       1.000000   99.000000      62.000000       0.000000    0.000000   \n",
       "50%       3.000000  117.000000      72.000000      23.000000   30.500000   \n",
       "75%       6.000000  140.250000      80.000000      32.000000  127.250000   \n",
       "max      17.000000  199.000000     122.000000      99.000000  846.000000   \n",
       "\n",
       "              BMI  DiabetesPedigreeFunction         Age     Outcome  \n",
       "count  768.000000                768.000000  768.000000  768.000000  \n",
       "mean    31.992578                  0.471876   33.240885    0.348958  \n",
       "std      7.884160                  0.331329   11.760232    0.476951  \n",
       "min      0.000000                  0.078000   21.000000    0.000000  \n",
       "25%     27.300000                  0.243750   24.000000    0.000000  \n",
       "50%     32.000000                  0.372500   29.000000    0.000000  \n",
       "75%     36.600000                  0.626250   41.000000    1.000000  \n",
       "max     67.100000                  2.420000   81.000000    1.000000  "
      ]
     },
     "execution_count": 159,
     "metadata": {},
     "output_type": "execute_result"
    }
   ],
   "source": [
    "df.describe()"
   ]
  },
  {
   "cell_type": "code",
   "execution_count": 160,
   "id": "b3418dde-c678-4a4c-864e-dabb7f0f7723",
   "metadata": {},
   "outputs": [
    {
     "name": "stdout",
     "output_type": "stream",
     "text": [
      "결측치 비율:\n",
      "Pregnancies                  0.000000\n",
      "Glucose                      0.651042\n",
      "BloodPressure                4.557292\n",
      "SkinThickness               29.557292\n",
      "Insulin                     48.697917\n",
      "BMI                          1.432292\n",
      "DiabetesPedigreeFunction     0.000000\n",
      "Age                          0.000000\n",
      "Outcome                      0.000000\n",
      "dtype: float64\n"
     ]
    }
   ],
   "source": [
    "import numpy as np\n",
    "\n",
    "\n",
    "# 비정상 값(0)을 결측치(NaN)로 대체\n",
    "# Glucose, BloodPressure, SkinThickness, Insulin, BMI 열에서 0값을 결측치로 간주\n",
    "columns_with_zero_as_missing = ['Glucose', 'BloodPressure', 'SkinThickness', 'Insulin', 'BMI']\n",
    "df[columns_with_zero_as_missing] = df[columns_with_zero_as_missing].replace(0, np.nan)\n",
    "\n",
    "# 결측치 비율 확인\n",
    "missing_values_percentage = df.isnull().mean() * 100\n",
    "print(\"결측치 비율:\")\n",
    "print(missing_values_percentage)\n",
    "\n",
    "# 결측치 대체\n",
    "# 결측치를 해당 열의 중앙값으로 대체\n",
    "df.fillna(df.median(), inplace=True)\n"
   ]
  },
  {
   "cell_type": "markdown",
   "id": "c9f60e61-b666-4a54-ade7-64547044df9a",
   "metadata": {},
   "source": [
    "## 데이터 시각화"
   ]
  },
  {
   "cell_type": "markdown",
   "id": "2a92b2c0-4691-4c96-9365-a650eb64b892",
   "metadata": {},
   "source": [
    "## heatmap을 통해 feature 간 상관관계 파악"
   ]
  },
  {
   "cell_type": "code",
   "execution_count": 161,
   "id": "4cda4087-1744-4eca-948b-ce1d7d0debc4",
   "metadata": {},
   "outputs": [
    {
     "data": {
      "text/html": [
       "        <script type=\"text/javascript\">\n",
       "        window.PlotlyConfig = {MathJaxConfig: 'local'};\n",
       "        if (window.MathJax && window.MathJax.Hub && window.MathJax.Hub.Config) {window.MathJax.Hub.Config({SVG: {font: \"STIX-Web\"}});}\n",
       "        if (typeof require !== 'undefined') {\n",
       "        require.undef(\"plotly\");\n",
       "        requirejs.config({\n",
       "            paths: {\n",
       "                'plotly': ['https://cdn.plot.ly/plotly-2.35.2.min']\n",
       "            }\n",
       "        });\n",
       "        require(['plotly'], function(Plotly) {\n",
       "            window._Plotly = Plotly;\n",
       "        });\n",
       "        }\n",
       "        </script>\n",
       "        "
      ]
     },
     "metadata": {},
     "output_type": "display_data"
    },
    {
     "data": {
      "application/vnd.plotly.v1+json": {
       "config": {
        "linkText": "Export to plot.ly",
        "plotlyServerURL": "https://plot.ly",
        "showLink": true
       },
       "data": [
        {
         "colorscale": [
          [
           0,
           "rgb(247,251,255)"
          ],
          [
           0.125,
           "rgb(222,235,247)"
          ],
          [
           0.25,
           "rgb(198,219,239)"
          ],
          [
           0.375,
           "rgb(158,202,225)"
          ],
          [
           0.5,
           "rgb(107,174,214)"
          ],
          [
           0.625,
           "rgb(66,146,198)"
          ],
          [
           0.75,
           "rgb(33,113,181)"
          ],
          [
           0.875,
           "rgb(8,81,156)"
          ],
          [
           1,
           "rgb(8,48,107)"
          ]
         ],
         "type": "heatmap",
         "x": [
          "Pregnancies",
          "Glucose",
          "BloodPressure",
          "SkinThickness",
          "Insulin",
          "BMI",
          "DiabetesPedigreeFunction",
          "Age",
          "Outcome"
         ],
         "y": [
          "Pregnancies",
          "Glucose",
          "BloodPressure",
          "SkinThickness",
          "Insulin",
          "BMI",
          "DiabetesPedigreeFunction",
          "Age",
          "Outcome"
         ],
         "z": [
          [
           1,
           0.12821295912656017,
           0.20861541236539252,
           0.08176982300694918,
           0.025047480864533175,
           0.0215587287096652,
           -0.03352267296261304,
           0.5443412284023392,
           0.22189815303398636
          ],
          [
           0.12821295912656017,
           1,
           0.21893718603179949,
           0.19261489539837465,
           0.41945051065399347,
           0.23104855040238348,
           0.1373269192563618,
           0.2669091601369249,
           0.4927824039150268
          ],
          [
           0.20861541236539252,
           0.21893718603179949,
           1,
           0.19189238838616424,
           0.045363304973430406,
           0.2812565644651023,
           -0.0023783361074089927,
           0.32491539143687675,
           0.16572291308057696
          ],
          [
           0.08176982300694918,
           0.19261489539837465,
           0.19189238838616424,
           1,
           0.15561028255915096,
           0.5432050699718665,
           0.10218826726571294,
           0.12610718967353202,
           0.2148732193919899
          ],
          [
           0.025047480864533175,
           0.41945051065399347,
           0.045363304973430406,
           0.15561028255915096,
           1,
           0.18024113709662082,
           0.12650308582459013,
           0.0971012484579782,
           0.2037903422445466
          ],
          [
           0.0215587287096652,
           0.23104855040238348,
           0.2812565644651023,
           0.5432050699718665,
           0.18024113709662082,
           1,
           0.15343767269428216,
           0.025596911257153274,
           0.31203833867711117
          ],
          [
           -0.03352267296261304,
           0.1373269192563618,
           -0.0023783361074089927,
           0.10218826726571294,
           0.12650308582459013,
           0.15343767269428216,
           1,
           0.03356131243480539,
           0.17384406565296004
          ],
          [
           0.5443412284023392,
           0.2669091601369249,
           0.32491539143687675,
           0.12610718967353202,
           0.0971012484579782,
           0.025596911257153274,
           0.03356131243480539,
           1,
           0.23835598302719757
          ],
          [
           0.22189815303398636,
           0.4927824039150268,
           0.16572291308057696,
           0.2148732193919899,
           0.2037903422445466,
           0.31203833867711117,
           0.17384406565296004,
           0.23835598302719757,
           1
          ]
         ],
         "zmax": 1,
         "zmin": -0.03352267296261304
        }
       ],
       "layout": {
        "legend": {
         "bgcolor": "#F5F6F9",
         "font": {
          "color": "#4D5663"
         }
        },
        "paper_bgcolor": "#F5F6F9",
        "plot_bgcolor": "#F5F6F9",
        "template": {
         "data": {
          "bar": [
           {
            "error_x": {
             "color": "#2a3f5f"
            },
            "error_y": {
             "color": "#2a3f5f"
            },
            "marker": {
             "line": {
              "color": "#E5ECF6",
              "width": 0.5
             },
             "pattern": {
              "fillmode": "overlay",
              "size": 10,
              "solidity": 0.2
             }
            },
            "type": "bar"
           }
          ],
          "barpolar": [
           {
            "marker": {
             "line": {
              "color": "#E5ECF6",
              "width": 0.5
             },
             "pattern": {
              "fillmode": "overlay",
              "size": 10,
              "solidity": 0.2
             }
            },
            "type": "barpolar"
           }
          ],
          "carpet": [
           {
            "aaxis": {
             "endlinecolor": "#2a3f5f",
             "gridcolor": "white",
             "linecolor": "white",
             "minorgridcolor": "white",
             "startlinecolor": "#2a3f5f"
            },
            "baxis": {
             "endlinecolor": "#2a3f5f",
             "gridcolor": "white",
             "linecolor": "white",
             "minorgridcolor": "white",
             "startlinecolor": "#2a3f5f"
            },
            "type": "carpet"
           }
          ],
          "choropleth": [
           {
            "colorbar": {
             "outlinewidth": 0,
             "ticks": ""
            },
            "type": "choropleth"
           }
          ],
          "contour": [
           {
            "colorbar": {
             "outlinewidth": 0,
             "ticks": ""
            },
            "colorscale": [
             [
              0,
              "#0d0887"
             ],
             [
              0.1111111111111111,
              "#46039f"
             ],
             [
              0.2222222222222222,
              "#7201a8"
             ],
             [
              0.3333333333333333,
              "#9c179e"
             ],
             [
              0.4444444444444444,
              "#bd3786"
             ],
             [
              0.5555555555555556,
              "#d8576b"
             ],
             [
              0.6666666666666666,
              "#ed7953"
             ],
             [
              0.7777777777777778,
              "#fb9f3a"
             ],
             [
              0.8888888888888888,
              "#fdca26"
             ],
             [
              1,
              "#f0f921"
             ]
            ],
            "type": "contour"
           }
          ],
          "contourcarpet": [
           {
            "colorbar": {
             "outlinewidth": 0,
             "ticks": ""
            },
            "type": "contourcarpet"
           }
          ],
          "heatmap": [
           {
            "colorbar": {
             "outlinewidth": 0,
             "ticks": ""
            },
            "colorscale": [
             [
              0,
              "#0d0887"
             ],
             [
              0.1111111111111111,
              "#46039f"
             ],
             [
              0.2222222222222222,
              "#7201a8"
             ],
             [
              0.3333333333333333,
              "#9c179e"
             ],
             [
              0.4444444444444444,
              "#bd3786"
             ],
             [
              0.5555555555555556,
              "#d8576b"
             ],
             [
              0.6666666666666666,
              "#ed7953"
             ],
             [
              0.7777777777777778,
              "#fb9f3a"
             ],
             [
              0.8888888888888888,
              "#fdca26"
             ],
             [
              1,
              "#f0f921"
             ]
            ],
            "type": "heatmap"
           }
          ],
          "heatmapgl": [
           {
            "colorbar": {
             "outlinewidth": 0,
             "ticks": ""
            },
            "colorscale": [
             [
              0,
              "#0d0887"
             ],
             [
              0.1111111111111111,
              "#46039f"
             ],
             [
              0.2222222222222222,
              "#7201a8"
             ],
             [
              0.3333333333333333,
              "#9c179e"
             ],
             [
              0.4444444444444444,
              "#bd3786"
             ],
             [
              0.5555555555555556,
              "#d8576b"
             ],
             [
              0.6666666666666666,
              "#ed7953"
             ],
             [
              0.7777777777777778,
              "#fb9f3a"
             ],
             [
              0.8888888888888888,
              "#fdca26"
             ],
             [
              1,
              "#f0f921"
             ]
            ],
            "type": "heatmapgl"
           }
          ],
          "histogram": [
           {
            "marker": {
             "pattern": {
              "fillmode": "overlay",
              "size": 10,
              "solidity": 0.2
             }
            },
            "type": "histogram"
           }
          ],
          "histogram2d": [
           {
            "colorbar": {
             "outlinewidth": 0,
             "ticks": ""
            },
            "colorscale": [
             [
              0,
              "#0d0887"
             ],
             [
              0.1111111111111111,
              "#46039f"
             ],
             [
              0.2222222222222222,
              "#7201a8"
             ],
             [
              0.3333333333333333,
              "#9c179e"
             ],
             [
              0.4444444444444444,
              "#bd3786"
             ],
             [
              0.5555555555555556,
              "#d8576b"
             ],
             [
              0.6666666666666666,
              "#ed7953"
             ],
             [
              0.7777777777777778,
              "#fb9f3a"
             ],
             [
              0.8888888888888888,
              "#fdca26"
             ],
             [
              1,
              "#f0f921"
             ]
            ],
            "type": "histogram2d"
           }
          ],
          "histogram2dcontour": [
           {
            "colorbar": {
             "outlinewidth": 0,
             "ticks": ""
            },
            "colorscale": [
             [
              0,
              "#0d0887"
             ],
             [
              0.1111111111111111,
              "#46039f"
             ],
             [
              0.2222222222222222,
              "#7201a8"
             ],
             [
              0.3333333333333333,
              "#9c179e"
             ],
             [
              0.4444444444444444,
              "#bd3786"
             ],
             [
              0.5555555555555556,
              "#d8576b"
             ],
             [
              0.6666666666666666,
              "#ed7953"
             ],
             [
              0.7777777777777778,
              "#fb9f3a"
             ],
             [
              0.8888888888888888,
              "#fdca26"
             ],
             [
              1,
              "#f0f921"
             ]
            ],
            "type": "histogram2dcontour"
           }
          ],
          "mesh3d": [
           {
            "colorbar": {
             "outlinewidth": 0,
             "ticks": ""
            },
            "type": "mesh3d"
           }
          ],
          "parcoords": [
           {
            "line": {
             "colorbar": {
              "outlinewidth": 0,
              "ticks": ""
             }
            },
            "type": "parcoords"
           }
          ],
          "pie": [
           {
            "automargin": true,
            "type": "pie"
           }
          ],
          "scatter": [
           {
            "fillpattern": {
             "fillmode": "overlay",
             "size": 10,
             "solidity": 0.2
            },
            "type": "scatter"
           }
          ],
          "scatter3d": [
           {
            "line": {
             "colorbar": {
              "outlinewidth": 0,
              "ticks": ""
             }
            },
            "marker": {
             "colorbar": {
              "outlinewidth": 0,
              "ticks": ""
             }
            },
            "type": "scatter3d"
           }
          ],
          "scattercarpet": [
           {
            "marker": {
             "colorbar": {
              "outlinewidth": 0,
              "ticks": ""
             }
            },
            "type": "scattercarpet"
           }
          ],
          "scattergeo": [
           {
            "marker": {
             "colorbar": {
              "outlinewidth": 0,
              "ticks": ""
             }
            },
            "type": "scattergeo"
           }
          ],
          "scattergl": [
           {
            "marker": {
             "colorbar": {
              "outlinewidth": 0,
              "ticks": ""
             }
            },
            "type": "scattergl"
           }
          ],
          "scattermapbox": [
           {
            "marker": {
             "colorbar": {
              "outlinewidth": 0,
              "ticks": ""
             }
            },
            "type": "scattermapbox"
           }
          ],
          "scatterpolar": [
           {
            "marker": {
             "colorbar": {
              "outlinewidth": 0,
              "ticks": ""
             }
            },
            "type": "scatterpolar"
           }
          ],
          "scatterpolargl": [
           {
            "marker": {
             "colorbar": {
              "outlinewidth": 0,
              "ticks": ""
             }
            },
            "type": "scatterpolargl"
           }
          ],
          "scatterternary": [
           {
            "marker": {
             "colorbar": {
              "outlinewidth": 0,
              "ticks": ""
             }
            },
            "type": "scatterternary"
           }
          ],
          "surface": [
           {
            "colorbar": {
             "outlinewidth": 0,
             "ticks": ""
            },
            "colorscale": [
             [
              0,
              "#0d0887"
             ],
             [
              0.1111111111111111,
              "#46039f"
             ],
             [
              0.2222222222222222,
              "#7201a8"
             ],
             [
              0.3333333333333333,
              "#9c179e"
             ],
             [
              0.4444444444444444,
              "#bd3786"
             ],
             [
              0.5555555555555556,
              "#d8576b"
             ],
             [
              0.6666666666666666,
              "#ed7953"
             ],
             [
              0.7777777777777778,
              "#fb9f3a"
             ],
             [
              0.8888888888888888,
              "#fdca26"
             ],
             [
              1,
              "#f0f921"
             ]
            ],
            "type": "surface"
           }
          ],
          "table": [
           {
            "cells": {
             "fill": {
              "color": "#EBF0F8"
             },
             "line": {
              "color": "white"
             }
            },
            "header": {
             "fill": {
              "color": "#C8D4E3"
             },
             "line": {
              "color": "white"
             }
            },
            "type": "table"
           }
          ]
         },
         "layout": {
          "annotationdefaults": {
           "arrowcolor": "#2a3f5f",
           "arrowhead": 0,
           "arrowwidth": 1
          },
          "autotypenumbers": "strict",
          "coloraxis": {
           "colorbar": {
            "outlinewidth": 0,
            "ticks": ""
           }
          },
          "colorscale": {
           "diverging": [
            [
             0,
             "#8e0152"
            ],
            [
             0.1,
             "#c51b7d"
            ],
            [
             0.2,
             "#de77ae"
            ],
            [
             0.3,
             "#f1b6da"
            ],
            [
             0.4,
             "#fde0ef"
            ],
            [
             0.5,
             "#f7f7f7"
            ],
            [
             0.6,
             "#e6f5d0"
            ],
            [
             0.7,
             "#b8e186"
            ],
            [
             0.8,
             "#7fbc41"
            ],
            [
             0.9,
             "#4d9221"
            ],
            [
             1,
             "#276419"
            ]
           ],
           "sequential": [
            [
             0,
             "#0d0887"
            ],
            [
             0.1111111111111111,
             "#46039f"
            ],
            [
             0.2222222222222222,
             "#7201a8"
            ],
            [
             0.3333333333333333,
             "#9c179e"
            ],
            [
             0.4444444444444444,
             "#bd3786"
            ],
            [
             0.5555555555555556,
             "#d8576b"
            ],
            [
             0.6666666666666666,
             "#ed7953"
            ],
            [
             0.7777777777777778,
             "#fb9f3a"
            ],
            [
             0.8888888888888888,
             "#fdca26"
            ],
            [
             1,
             "#f0f921"
            ]
           ],
           "sequentialminus": [
            [
             0,
             "#0d0887"
            ],
            [
             0.1111111111111111,
             "#46039f"
            ],
            [
             0.2222222222222222,
             "#7201a8"
            ],
            [
             0.3333333333333333,
             "#9c179e"
            ],
            [
             0.4444444444444444,
             "#bd3786"
            ],
            [
             0.5555555555555556,
             "#d8576b"
            ],
            [
             0.6666666666666666,
             "#ed7953"
            ],
            [
             0.7777777777777778,
             "#fb9f3a"
            ],
            [
             0.8888888888888888,
             "#fdca26"
            ],
            [
             1,
             "#f0f921"
            ]
           ]
          },
          "colorway": [
           "#636efa",
           "#EF553B",
           "#00cc96",
           "#ab63fa",
           "#FFA15A",
           "#19d3f3",
           "#FF6692",
           "#B6E880",
           "#FF97FF",
           "#FECB52"
          ],
          "font": {
           "color": "#2a3f5f"
          },
          "geo": {
           "bgcolor": "white",
           "lakecolor": "white",
           "landcolor": "#E5ECF6",
           "showlakes": true,
           "showland": true,
           "subunitcolor": "white"
          },
          "hoverlabel": {
           "align": "left"
          },
          "hovermode": "closest",
          "mapbox": {
           "style": "light"
          },
          "paper_bgcolor": "white",
          "plot_bgcolor": "#E5ECF6",
          "polar": {
           "angularaxis": {
            "gridcolor": "white",
            "linecolor": "white",
            "ticks": ""
           },
           "bgcolor": "#E5ECF6",
           "radialaxis": {
            "gridcolor": "white",
            "linecolor": "white",
            "ticks": ""
           }
          },
          "scene": {
           "xaxis": {
            "backgroundcolor": "#E5ECF6",
            "gridcolor": "white",
            "gridwidth": 2,
            "linecolor": "white",
            "showbackground": true,
            "ticks": "",
            "zerolinecolor": "white"
           },
           "yaxis": {
            "backgroundcolor": "#E5ECF6",
            "gridcolor": "white",
            "gridwidth": 2,
            "linecolor": "white",
            "showbackground": true,
            "ticks": "",
            "zerolinecolor": "white"
           },
           "zaxis": {
            "backgroundcolor": "#E5ECF6",
            "gridcolor": "white",
            "gridwidth": 2,
            "linecolor": "white",
            "showbackground": true,
            "ticks": "",
            "zerolinecolor": "white"
           }
          },
          "shapedefaults": {
           "line": {
            "color": "#2a3f5f"
           }
          },
          "ternary": {
           "aaxis": {
            "gridcolor": "white",
            "linecolor": "white",
            "ticks": ""
           },
           "baxis": {
            "gridcolor": "white",
            "linecolor": "white",
            "ticks": ""
           },
           "bgcolor": "#E5ECF6",
           "caxis": {
            "gridcolor": "white",
            "linecolor": "white",
            "ticks": ""
           }
          },
          "title": {
           "x": 0.05
          },
          "xaxis": {
           "automargin": true,
           "gridcolor": "white",
           "linecolor": "white",
           "ticks": "",
           "title": {
            "standoff": 15
           },
           "zerolinecolor": "white",
           "zerolinewidth": 2
          },
          "yaxis": {
           "automargin": true,
           "gridcolor": "white",
           "linecolor": "white",
           "ticks": "",
           "title": {
            "standoff": 15
           },
           "zerolinecolor": "white",
           "zerolinewidth": 2
          }
         }
        },
        "title": {
         "font": {
          "color": "#4D5663"
         }
        },
        "xaxis": {
         "gridcolor": "#E1E5ED",
         "showgrid": true,
         "tickfont": {
          "color": "#4D5663"
         },
         "title": {
          "font": {
           "color": "#4D5663"
          },
          "text": ""
         },
         "zerolinecolor": "#E1E5ED"
        },
        "yaxis": {
         "gridcolor": "#E1E5ED",
         "showgrid": true,
         "tickfont": {
          "color": "#4D5663"
         },
         "title": {
          "font": {
           "color": "#4D5663"
          },
          "text": ""
         },
         "zerolinecolor": "#E1E5ED"
        }
       }
      },
      "image/png": "[encoded data removed]",
      "text/html": [
       "<div>                            <div id=\"1026cd59-faac-4492-a269-33e64c6fc659\" class=\"plotly-graph-div\" style=\"height:525px; width:100%;\"></div>            <script type=\"text/javascript\">                require([\"plotly\"], function(Plotly) {                    window.PLOTLYENV=window.PLOTLYENV || {};\n",
       "                    window.PLOTLYENV.BASE_URL='https://plot.ly';                                    if (document.getElementById(\"1026cd59-faac-4492-a269-33e64c6fc659\")) {                    Plotly.newPlot(                        \"1026cd59-faac-4492-a269-33e64c6fc659\",                        [{\"colorscale\":[[0.0,\"rgb(247,251,255)\"],[0.125,\"rgb(222,235,247)\"],[0.25,\"rgb(198,219,239)\"],[0.375,\"rgb(158,202,225)\"],[0.5,\"rgb(107,174,214)\"],[0.625,\"rgb(66,146,198)\"],[0.75,\"rgb(33,113,181)\"],[0.875,\"rgb(8,81,156)\"],[1.0,\"rgb(8,48,107)\"]],\"x\":[\"Pregnancies\",\"Glucose\",\"BloodPressure\",\"SkinThickness\",\"Insulin\",\"BMI\",\"DiabetesPedigreeFunction\",\"Age\",\"Outcome\"],\"y\":[\"Pregnancies\",\"Glucose\",\"BloodPressure\",\"SkinThickness\",\"Insulin\",\"BMI\",\"DiabetesPedigreeFunction\",\"Age\",\"Outcome\"],\"z\":[[1.0,0.12821295912656017,0.20861541236539252,0.08176982300694918,0.025047480864533175,0.0215587287096652,-0.03352267296261304,0.5443412284023392,0.22189815303398636],[0.12821295912656017,1.0,0.21893718603179949,0.19261489539837465,0.41945051065399347,0.23104855040238348,0.1373269192563618,0.2669091601369249,0.4927824039150268],[0.20861541236539252,0.21893718603179949,1.0,0.19189238838616424,0.045363304973430406,0.2812565644651023,-0.0023783361074089927,0.32491539143687675,0.16572291308057696],[0.08176982300694918,0.19261489539837465,0.19189238838616424,1.0,0.15561028255915096,0.5432050699718665,0.10218826726571294,0.12610718967353202,0.2148732193919899],[0.025047480864533175,0.41945051065399347,0.045363304973430406,0.15561028255915096,1.0,0.18024113709662082,0.12650308582459013,0.0971012484579782,0.2037903422445466],[0.0215587287096652,0.23104855040238348,0.2812565644651023,0.5432050699718665,0.18024113709662082,1.0,0.15343767269428216,0.025596911257153274,0.31203833867711117],[-0.03352267296261304,0.1373269192563618,-0.0023783361074089927,0.10218826726571294,0.12650308582459013,0.15343767269428216,1.0,0.03356131243480539,0.17384406565296004],[0.5443412284023392,0.2669091601369249,0.32491539143687675,0.12610718967353202,0.0971012484579782,0.025596911257153274,0.03356131243480539,1.0,0.23835598302719757],[0.22189815303398636,0.4927824039150268,0.16572291308057696,0.2148732193919899,0.2037903422445466,0.31203833867711117,0.17384406565296004,0.23835598302719757,1.0]],\"zmax\":1.0,\"zmin\":-0.03352267296261304,\"type\":\"heatmap\"}],                        {\"legend\":{\"bgcolor\":\"#F5F6F9\",\"font\":{\"color\":\"#4D5663\"}},\"paper_bgcolor\":\"#F5F6F9\",\"plot_bgcolor\":\"#F5F6F9\",\"template\":{\"data\":{\"barpolar\":[{\"marker\":{\"line\":{\"color\":\"#E5ECF6\",\"width\":0.5},\"pattern\":{\"fillmode\":\"overlay\",\"size\":10,\"solidity\":0.2}},\"type\":\"barpolar\"}],\"bar\":[{\"error_x\":{\"color\":\"#2a3f5f\"},\"error_y\":{\"color\":\"#2a3f5f\"},\"marker\":{\"line\":{\"color\":\"#E5ECF6\",\"width\":0.5},\"pattern\":{\"fillmode\":\"overlay\",\"size\":10,\"solidity\":0.2}},\"type\":\"bar\"}],\"carpet\":[{\"aaxis\":{\"endlinecolor\":\"#2a3f5f\",\"gridcolor\":\"white\",\"linecolor\":\"white\",\"minorgridcolor\":\"white\",\"startlinecolor\":\"#2a3f5f\"},\"baxis\":{\"endlinecolor\":\"#2a3f5f\",\"gridcolor\":\"white\",\"linecolor\":\"white\",\"minorgridcolor\":\"white\",\"startlinecolor\":\"#2a3f5f\"},\"type\":\"carpet\"}],\"choropleth\":[{\"colorbar\":{\"outlinewidth\":0,\"ticks\":\"\"},\"type\":\"choropleth\"}],\"contourcarpet\":[{\"colorbar\":{\"outlinewidth\":0,\"ticks\":\"\"},\"type\":\"contourcarpet\"}],\"contour\":[{\"colorbar\":{\"outlinewidth\":0,\"ticks\":\"\"},\"colorscale\":[[0.0,\"#0d0887\"],[0.1111111111111111,\"#46039f\"],[0.2222222222222222,\"#7201a8\"],[0.3333333333333333,\"#9c179e\"],[0.4444444444444444,\"#bd3786\"],[0.5555555555555556,\"#d8576b\"],[0.6666666666666666,\"#ed7953\"],[0.7777777777777778,\"#fb9f3a\"],[0.8888888888888888,\"#fdca26\"],[1.0,\"#f0f921\"]],\"type\":\"contour\"}],\"heatmapgl\":[{\"colorbar\":{\"outlinewidth\":0,\"ticks\":\"\"},\"colorscale\":[[0.0,\"#0d0887\"],[0.1111111111111111,\"#46039f\"],[0.2222222222222222,\"#7201a8\"],[0.3333333333333333,\"#9c179e\"],[0.4444444444444444,\"#bd3786\"],[0.5555555555555556,\"#d8576b\"],[0.6666666666666666,\"#ed7953\"],[0.7777777777777778,\"#fb9f3a\"],[0.8888888888888888,\"#fdca26\"],[1.0,\"#f0f921\"]],\"type\":\"heatmapgl\"}],\"heatmap\":[{\"colorbar\":{\"outlinewidth\":0,\"ticks\":\"\"},\"colorscale\":[[0.0,\"#0d0887\"],[0.1111111111111111,\"#46039f\"],[0.2222222222222222,\"#7201a8\"],[0.3333333333333333,\"#9c179e\"],[0.4444444444444444,\"#bd3786\"],[0.5555555555555556,\"#d8576b\"],[0.6666666666666666,\"#ed7953\"],[0.7777777777777778,\"#fb9f3a\"],[0.8888888888888888,\"#fdca26\"],[1.0,\"#f0f921\"]],\"type\":\"heatmap\"}],\"histogram2dcontour\":[{\"colorbar\":{\"outlinewidth\":0,\"ticks\":\"\"},\"colorscale\":[[0.0,\"#0d0887\"],[0.1111111111111111,\"#46039f\"],[0.2222222222222222,\"#7201a8\"],[0.3333333333333333,\"#9c179e\"],[0.4444444444444444,\"#bd3786\"],[0.5555555555555556,\"#d8576b\"],[0.6666666666666666,\"#ed7953\"],[0.7777777777777778,\"#fb9f3a\"],[0.8888888888888888,\"#fdca26\"],[1.0,\"#f0f921\"]],\"type\":\"histogram2dcontour\"}],\"histogram2d\":[{\"colorbar\":{\"outlinewidth\":0,\"ticks\":\"\"},\"colorscale\":[[0.0,\"#0d0887\"],[0.1111111111111111,\"#46039f\"],[0.2222222222222222,\"#7201a8\"],[0.3333333333333333,\"#9c179e\"],[0.4444444444444444,\"#bd3786\"],[0.5555555555555556,\"#d8576b\"],[0.6666666666666666,\"#ed7953\"],[0.7777777777777778,\"#fb9f3a\"],[0.8888888888888888,\"#fdca26\"],[1.0,\"#f0f921\"]],\"type\":\"histogram2d\"}],\"histogram\":[{\"marker\":{\"pattern\":{\"fillmode\":\"overlay\",\"size\":10,\"solidity\":0.2}},\"type\":\"histogram\"}],\"mesh3d\":[{\"colorbar\":{\"outlinewidth\":0,\"ticks\":\"\"},\"type\":\"mesh3d\"}],\"parcoords\":[{\"line\":{\"colorbar\":{\"outlinewidth\":0,\"ticks\":\"\"}},\"type\":\"parcoords\"}],\"pie\":[{\"automargin\":true,\"type\":\"pie\"}],\"scatter3d\":[{\"line\":{\"colorbar\":{\"outlinewidth\":0,\"ticks\":\"\"}},\"marker\":{\"colorbar\":{\"outlinewidth\":0,\"ticks\":\"\"}},\"type\":\"scatter3d\"}],\"scattercarpet\":[{\"marker\":{\"colorbar\":{\"outlinewidth\":0,\"ticks\":\"\"}},\"type\":\"scattercarpet\"}],\"scattergeo\":[{\"marker\":{\"colorbar\":{\"outlinewidth\":0,\"ticks\":\"\"}},\"type\":\"scattergeo\"}],\"scattergl\":[{\"marker\":{\"colorbar\":{\"outlinewidth\":0,\"ticks\":\"\"}},\"type\":\"scattergl\"}],\"scattermapbox\":[{\"marker\":{\"colorbar\":{\"outlinewidth\":0,\"ticks\":\"\"}},\"type\":\"scattermapbox\"}],\"scatterpolargl\":[{\"marker\":{\"colorbar\":{\"outlinewidth\":0,\"ticks\":\"\"}},\"type\":\"scatterpolargl\"}],\"scatterpolar\":[{\"marker\":{\"colorbar\":{\"outlinewidth\":0,\"ticks\":\"\"}},\"type\":\"scatterpolar\"}],\"scatter\":[{\"fillpattern\":{\"fillmode\":\"overlay\",\"size\":10,\"solidity\":0.2},\"type\":\"scatter\"}],\"scatterternary\":[{\"marker\":{\"colorbar\":{\"outlinewidth\":0,\"ticks\":\"\"}},\"type\":\"scatterternary\"}],\"surface\":[{\"colorbar\":{\"outlinewidth\":0,\"ticks\":\"\"},\"colorscale\":[[0.0,\"#0d0887\"],[0.1111111111111111,\"#46039f\"],[0.2222222222222222,\"#7201a8\"],[0.3333333333333333,\"#9c179e\"],[0.4444444444444444,\"#bd3786\"],[0.5555555555555556,\"#d8576b\"],[0.6666666666666666,\"#ed7953\"],[0.7777777777777778,\"#fb9f3a\"],[0.8888888888888888,\"#fdca26\"],[1.0,\"#f0f921\"]],\"type\":\"surface\"}],\"table\":[{\"cells\":{\"fill\":{\"color\":\"#EBF0F8\"},\"line\":{\"color\":\"white\"}},\"header\":{\"fill\":{\"color\":\"#C8D4E3\"},\"line\":{\"color\":\"white\"}},\"type\":\"table\"}]},\"layout\":{\"annotationdefaults\":{\"arrowcolor\":\"#2a3f5f\",\"arrowhead\":0,\"arrowwidth\":1},\"autotypenumbers\":\"strict\",\"coloraxis\":{\"colorbar\":{\"outlinewidth\":0,\"ticks\":\"\"}},\"colorscale\":{\"diverging\":[[0,\"#8e0152\"],[0.1,\"#c51b7d\"],[0.2,\"#de77ae\"],[0.3,\"#f1b6da\"],[0.4,\"#fde0ef\"],[0.5,\"#f7f7f7\"],[0.6,\"#e6f5d0\"],[0.7,\"#b8e186\"],[0.8,\"#7fbc41\"],[0.9,\"#4d9221\"],[1,\"#276419\"]],\"sequential\":[[0.0,\"#0d0887\"],[0.1111111111111111,\"#46039f\"],[0.2222222222222222,\"#7201a8\"],[0.3333333333333333,\"#9c179e\"],[0.4444444444444444,\"#bd3786\"],[0.5555555555555556,\"#d8576b\"],[0.6666666666666666,\"#ed7953\"],[0.7777777777777778,\"#fb9f3a\"],[0.8888888888888888,\"#fdca26\"],[1.0,\"#f0f921\"]],\"sequentialminus\":[[0.0,\"#0d0887\"],[0.1111111111111111,\"#46039f\"],[0.2222222222222222,\"#7201a8\"],[0.3333333333333333,\"#9c179e\"],[0.4444444444444444,\"#bd3786\"],[0.5555555555555556,\"#d8576b\"],[0.6666666666666666,\"#ed7953\"],[0.7777777777777778,\"#fb9f3a\"],[0.8888888888888888,\"#fdca26\"],[1.0,\"#f0f921\"]]},\"colorway\":[\"#636efa\",\"#EF553B\",\"#00cc96\",\"#ab63fa\",\"#FFA15A\",\"#19d3f3\",\"#FF6692\",\"#B6E880\",\"#FF97FF\",\"#FECB52\"],\"font\":{\"color\":\"#2a3f5f\"},\"geo\":{\"bgcolor\":\"white\",\"lakecolor\":\"white\",\"landcolor\":\"#E5ECF6\",\"showlakes\":true,\"showland\":true,\"subunitcolor\":\"white\"},\"hoverlabel\":{\"align\":\"left\"},\"hovermode\":\"closest\",\"mapbox\":{\"style\":\"light\"},\"paper_bgcolor\":\"white\",\"plot_bgcolor\":\"#E5ECF6\",\"polar\":{\"angularaxis\":{\"gridcolor\":\"white\",\"linecolor\":\"white\",\"ticks\":\"\"},\"bgcolor\":\"#E5ECF6\",\"radialaxis\":{\"gridcolor\":\"white\",\"linecolor\":\"white\",\"ticks\":\"\"}},\"scene\":{\"xaxis\":{\"backgroundcolor\":\"#E5ECF6\",\"gridcolor\":\"white\",\"gridwidth\":2,\"linecolor\":\"white\",\"showbackground\":true,\"ticks\":\"\",\"zerolinecolor\":\"white\"},\"yaxis\":{\"backgroundcolor\":\"#E5ECF6\",\"gridcolor\":\"white\",\"gridwidth\":2,\"linecolor\":\"white\",\"showbackground\":true,\"ticks\":\"\",\"zerolinecolor\":\"white\"},\"zaxis\":{\"backgroundcolor\":\"#E5ECF6\",\"gridcolor\":\"white\",\"gridwidth\":2,\"linecolor\":\"white\",\"showbackground\":true,\"ticks\":\"\",\"zerolinecolor\":\"white\"}},\"shapedefaults\":{\"line\":{\"color\":\"#2a3f5f\"}},\"ternary\":{\"aaxis\":{\"gridcolor\":\"white\",\"linecolor\":\"white\",\"ticks\":\"\"},\"baxis\":{\"gridcolor\":\"white\",\"linecolor\":\"white\",\"ticks\":\"\"},\"bgcolor\":\"#E5ECF6\",\"caxis\":{\"gridcolor\":\"white\",\"linecolor\":\"white\",\"ticks\":\"\"}},\"title\":{\"x\":0.05},\"xaxis\":{\"automargin\":true,\"gridcolor\":\"white\",\"linecolor\":\"white\",\"ticks\":\"\",\"title\":{\"standoff\":15},\"zerolinecolor\":\"white\",\"zerolinewidth\":2},\"yaxis\":{\"automargin\":true,\"gridcolor\":\"white\",\"linecolor\":\"white\",\"ticks\":\"\",\"title\":{\"standoff\":15},\"zerolinecolor\":\"white\",\"zerolinewidth\":2}}},\"title\":{\"font\":{\"color\":\"#4D5663\"}},\"xaxis\":{\"gridcolor\":\"#E1E5ED\",\"showgrid\":true,\"tickfont\":{\"color\":\"#4D5663\"},\"title\":{\"font\":{\"color\":\"#4D5663\"},\"text\":\"\"},\"zerolinecolor\":\"#E1E5ED\"},\"yaxis\":{\"gridcolor\":\"#E1E5ED\",\"showgrid\":true,\"tickfont\":{\"color\":\"#4D5663\"},\"title\":{\"font\":{\"color\":\"#4D5663\"},\"text\":\"\"},\"zerolinecolor\":\"#E1E5ED\"}},                        {\"showLink\": true, \"linkText\": \"Export to plot.ly\", \"plotlyServerURL\": \"https://plot.ly\", \"responsive\": true}                    ).then(function(){\n",
       "                            \n",
       "var gd = document.getElementById('1026cd59-faac-4492-a269-33e64c6fc659');\n",
       "var x = new MutationObserver(function (mutations, observer) {{\n",
       "        var display = window.getComputedStyle(gd).display;\n",
       "        if (!display || display === 'none') {{\n",
       "            console.log([gd, 'removed!']);\n",
       "            Plotly.purge(gd);\n",
       "            observer.disconnect();\n",
       "        }}\n",
       "}});\n",
       "\n",
       "// Listen for the removal of the full notebook cells\n",
       "var notebookContainer = gd.closest('#notebook-container');\n",
       "if (notebookContainer) {{\n",
       "    x.observe(notebookContainer, {childList: true});\n",
       "}}\n",
       "\n",
       "// Listen for the clearing of the current output cell\n",
       "var outputEl = gd.closest('.output');\n",
       "if (outputEl) {{\n",
       "    x.observe(outputEl, {childList: true});\n",
       "}}\n",
       "\n",
       "                        })                };                });            </script>        </div>"
      ]
     },
     "metadata": {},
     "output_type": "display_data"
    }
   ],
   "source": [
    "import chart_studio.plotly as py\n",
    "import cufflinks as cf\n",
    "cf.go_offline(connected=True)\n",
    "\n",
    "df.corr(numeric_only=True).iplot(kind=\"heatmap\", colorscale=\"Blues\")"
   ]
  },
  {
   "cell_type": "markdown",
   "id": "4a3c7bf5-31e8-44df-a3fe-c1dd42d77eba",
   "metadata": {},
   "source": [
    "## 특정 feature와 Outcome과의 관계 분석(시각화)"
   ]
  },
  {
   "cell_type": "code",
   "execution_count": 162,
   "id": "4047f50a-d7f3-411d-9849-866c679da7ad",
   "metadata": {},
   "outputs": [
    {
     "data": {
      "text/html": [
       "<div>\n",
       "<style scoped>\n",
       "    .dataframe tbody tr th:only-of-type {\n",
       "        vertical-align: middle;\n",
       "    }\n",
       "\n",
       "    .dataframe tbody tr th {\n",
       "        vertical-align: top;\n",
       "    }\n",
       "\n",
       "    .dataframe thead th {\n",
       "        text-align: right;\n",
       "    }\n",
       "</style>\n",
       "<table border=\"1\" class=\"dataframe\">\n",
       "  <thead>\n",
       "    <tr style=\"text-align: right;\">\n",
       "      <th></th>\n",
       "      <th>Pregnancies</th>\n",
       "      <th>Glucose</th>\n",
       "      <th>BloodPressure</th>\n",
       "      <th>SkinThickness</th>\n",
       "      <th>Insulin</th>\n",
       "      <th>BMI</th>\n",
       "      <th>DiabetesPedigreeFunction</th>\n",
       "      <th>Age</th>\n",
       "      <th>Outcome</th>\n",
       "    </tr>\n",
       "  </thead>\n",
       "  <tbody>\n",
       "    <tr>\n",
       "      <th>0</th>\n",
       "      <td>5-6</td>\n",
       "      <td>147-157</td>\n",
       "      <td>69-76</td>\n",
       "      <td>31-37</td>\n",
       "      <td>124-180</td>\n",
       "      <td>31-34</td>\n",
       "      <td>0-0</td>\n",
       "      <td>49-53</td>\n",
       "      <td>1</td>\n",
       "    </tr>\n",
       "    <tr>\n",
       "      <th>1</th>\n",
       "      <td>0-1</td>\n",
       "      <td>75-85</td>\n",
       "      <td>63-69</td>\n",
       "      <td>25-31</td>\n",
       "      <td>124-180</td>\n",
       "      <td>24-27</td>\n",
       "      <td>0-0</td>\n",
       "      <td>29-33</td>\n",
       "      <td>0</td>\n",
       "    </tr>\n",
       "    <tr>\n",
       "      <th>2</th>\n",
       "      <td>7-9</td>\n",
       "      <td>178-188</td>\n",
       "      <td>63-69</td>\n",
       "      <td>25-31</td>\n",
       "      <td>124-180</td>\n",
       "      <td>21-24</td>\n",
       "      <td>0-0</td>\n",
       "      <td>29-33</td>\n",
       "      <td>1</td>\n",
       "    </tr>\n",
       "    <tr>\n",
       "      <th>3</th>\n",
       "      <td>0-1</td>\n",
       "      <td>85-95</td>\n",
       "      <td>63-69</td>\n",
       "      <td>19-25</td>\n",
       "      <td>69-124</td>\n",
       "      <td>27-31</td>\n",
       "      <td>0-0</td>\n",
       "      <td>20-25</td>\n",
       "      <td>0</td>\n",
       "    </tr>\n",
       "    <tr>\n",
       "      <th>4</th>\n",
       "      <td>0-1</td>\n",
       "      <td>126-137</td>\n",
       "      <td>37-43</td>\n",
       "      <td>31-37</td>\n",
       "      <td>124-180</td>\n",
       "      <td>41-44</td>\n",
       "      <td>2-2</td>\n",
       "      <td>29-33</td>\n",
       "      <td>1</td>\n",
       "    </tr>\n",
       "    <tr>\n",
       "      <th>...</th>\n",
       "      <td>...</td>\n",
       "      <td>...</td>\n",
       "      <td>...</td>\n",
       "      <td>...</td>\n",
       "      <td>...</td>\n",
       "      <td>...</td>\n",
       "      <td>...</td>\n",
       "      <td>...</td>\n",
       "      <td>...</td>\n",
       "    </tr>\n",
       "    <tr>\n",
       "      <th>763</th>\n",
       "      <td>9-10</td>\n",
       "      <td>95-106</td>\n",
       "      <td>69-76</td>\n",
       "      <td>43-49</td>\n",
       "      <td>124-180</td>\n",
       "      <td>31-34</td>\n",
       "      <td>0-0</td>\n",
       "      <td>61-65</td>\n",
       "      <td>0</td>\n",
       "    </tr>\n",
       "    <tr>\n",
       "      <th>764</th>\n",
       "      <td>1-2</td>\n",
       "      <td>116-126</td>\n",
       "      <td>69-76</td>\n",
       "      <td>25-31</td>\n",
       "      <td>124-180</td>\n",
       "      <td>34-37</td>\n",
       "      <td>0-0</td>\n",
       "      <td>25-29</td>\n",
       "      <td>0</td>\n",
       "    </tr>\n",
       "    <tr>\n",
       "      <th>765</th>\n",
       "      <td>4-5</td>\n",
       "      <td>116-126</td>\n",
       "      <td>69-76</td>\n",
       "      <td>19-25</td>\n",
       "      <td>69-124</td>\n",
       "      <td>24-27</td>\n",
       "      <td>0-0</td>\n",
       "      <td>29-33</td>\n",
       "      <td>0</td>\n",
       "    </tr>\n",
       "    <tr>\n",
       "      <th>766</th>\n",
       "      <td>0-1</td>\n",
       "      <td>116-126</td>\n",
       "      <td>56-63</td>\n",
       "      <td>25-31</td>\n",
       "      <td>124-180</td>\n",
       "      <td>27-31</td>\n",
       "      <td>0-0</td>\n",
       "      <td>45-49</td>\n",
       "      <td>1</td>\n",
       "    </tr>\n",
       "    <tr>\n",
       "      <th>767</th>\n",
       "      <td>0-1</td>\n",
       "      <td>85-95</td>\n",
       "      <td>69-76</td>\n",
       "      <td>25-31</td>\n",
       "      <td>124-180</td>\n",
       "      <td>27-31</td>\n",
       "      <td>0-0</td>\n",
       "      <td>20-25</td>\n",
       "      <td>0</td>\n",
       "    </tr>\n",
       "  </tbody>\n",
       "</table>\n",
       "<p>768 rows × 9 columns</p>\n",
       "</div>"
      ],
      "text/plain": [
       "    Pregnancies  Glucose BloodPressure SkinThickness  Insulin    BMI  \\\n",
       "0           5-6  147-157         69-76         31-37  124-180  31-34   \n",
       "1           0-1    75-85         63-69         25-31  124-180  24-27   \n",
       "2           7-9  178-188         63-69         25-31  124-180  21-24   \n",
       "3           0-1    85-95         63-69         19-25   69-124  27-31   \n",
       "4           0-1  126-137         37-43         31-37  124-180  41-44   \n",
       "..          ...      ...           ...           ...      ...    ...   \n",
       "763        9-10   95-106         69-76         43-49  124-180  31-34   \n",
       "764         1-2  116-126         69-76         25-31  124-180  34-37   \n",
       "765         4-5  116-126         69-76         19-25   69-124  24-27   \n",
       "766         0-1  116-126         56-63         25-31  124-180  27-31   \n",
       "767         0-1    85-95         69-76         25-31  124-180  27-31   \n",
       "\n",
       "    DiabetesPedigreeFunction    Age  Outcome  \n",
       "0                        0-0  49-53        1  \n",
       "1                        0-0  29-33        0  \n",
       "2                        0-0  29-33        1  \n",
       "3                        0-0  20-25        0  \n",
       "4                        2-2  29-33        1  \n",
       "..                       ...    ...      ...  \n",
       "763                      0-0  61-65        0  \n",
       "764                      0-0  25-29        0  \n",
       "765                      0-0  29-33        0  \n",
       "766                      0-0  45-49        1  \n",
       "767                      0-0  20-25        0  \n",
       "\n",
       "[768 rows x 9 columns]"
      ]
     },
     "execution_count": 162,
     "metadata": {},
     "output_type": "execute_result"
    }
   ],
   "source": [
    "def bin_numeric_columns(df, bins):\n",
    "    \"\"\"\n",
    "    숫자형 컬럼을 주어진 구간(bins)으로 나누는 함수\n",
    "    \"\"\"\n",
    "    # 데이터프레임 복사\n",
    "    binned_df = df.copy()\n",
    "    \n",
    "    # 숫자형 컬럼만 선택\n",
    "    numeric_columns = df.select_dtypes(include=['number']).columns\n",
    "    \n",
    "    # Outcome 컬럼 제외\n",
    "    numeric_columns = [x for x in numeric_columns if x != \"Outcome\"]\n",
    "\n",
    "    for col in numeric_columns:\n",
    "        # 각 컬럼에 대한 구간 경계값 계산\n",
    "        bin_edges = pd.cut(df[col], bins=bins, retbins=True)[1]\n",
    "        \n",
    "        # 구간 경계값을 기반으로 레이블 생성\n",
    "        labels = [f\"{int(bin_edges[i])}-{int(bin_edges[i+1])}\" for i in range(len(bin_edges) - 1)]\n",
    "        \n",
    "        # 컬럼 데이터를 구간화하고 레이블 적용 (중복 허용)\n",
    "        binned_df[col] = pd.cut(df[col], bins=bin_edges, labels=labels, include_lowest=True, ordered=False)\n",
    "\n",
    "    return binned_df\n",
    "\n",
    "# 데이터셋에 함수 적용\n",
    "binned_df = bin_numeric_columns(df, bins=15)\n",
    "\n",
    "# 구간화된 데이터셋 출력\n",
    "binned_df"
   ]
  },
  {
   "cell_type": "code",
   "execution_count": 163,
   "id": "49a28bf1-731a-43b8-b5d6-6feb165d3b81",
   "metadata": {},
   "outputs": [],
   "source": [
    "def create_feature_outcome_dataframe(feature):\n",
    "    \"\"\"\n",
    "    Outcome(결과)에 따라 특정 feature의 분포를 보여주는 데이터프레임 생성\n",
    "    \"\"\"\n",
    "    # 유효한 Outcome 값(0과 1)을 가진 행 필터링\n",
    "    valid_outcomes = [1, 0]\n",
    "    filtered_train = binned_df[binned_df[\"Outcome\"].isin(valid_outcomes)]\n",
    "    \n",
    "    # Outcome에 따라 생존(Survived)과 사망(Dead)으로 데이터 분리\n",
    "    survive_condition = filtered_train[filtered_train[\"Outcome\"] == 1]\n",
    "    dead_condition = filtered_train[filtered_train[\"Outcome\"] == 0]\n",
    "\n",
    "    # 각 조건에서 해당 특성의 값 개수 계산\n",
    "    survive = survive_condition[feature].value_counts()\n",
    "    dead = dead_condition[feature].value_counts()\n",
    "\n",
    "    # 계산된 값을 데이터프레임으로 변환\n",
    "    df = pd.DataFrame({\n",
    "        \"Survived\": survive,  # 생존 빈도\n",
    "        \"Dead\": dead          # 사망 빈도\n",
    "    }).fillna(0).astype(int)  # NaN 값을 0으로 대체하고 정수형으로 변환\n",
    "\n",
    "    return df"
   ]
  },
  {
   "cell_type": "code",
   "execution_count": 164,
   "id": "c39a1fbd-cc1e-4bd0-a628-fbdf65d7be3c",
   "metadata": {},
   "outputs": [],
   "source": [
    "import matplotlib.pyplot as plt\n",
    "import seaborn as sns\n",
    "\n",
    "def visualize_feature_outcome(df, feature_name):\n",
    "    \"\"\"\n",
    "    Outcome(결과)에 따른 특성의 분포를 막대그래프로 시각화\n",
    "    \"\"\"\n",
    "    # 시각화를 위해 데이터프레임을 전치(Transpose)\n",
    "    df_t = df.T\n",
    "\n",
    "    # 그래프 스타일 설정\n",
    "    sns.set(style=\"whitegrid\")\n",
    "\n",
    "    # 막대 그래프 생성\n",
    "    plt.figure(figsize=(10, 6))\n",
    "    df_t.plot(kind='bar', figsize=(10, 6))\n",
    "    plt.title(f\"Distribution of {feature_name} by Outcome\")  # 그래프 제목 설정\n",
    "    plt.xlabel(feature_name)  # X축 레이블 설정\n",
    "    plt.ylabel(\"Count\")       # Y축 레이블 설정\n",
    "    plt.xticks(rotation=0)    # X축 눈금 회전 설정\n",
    "\n",
    "    # 그래프 출력\n",
    "    plt.tight_layout()\n",
    "    plt.show()"
   ]
  },
  {
   "cell_type": "code",
   "execution_count": 165,
   "id": "41139d4d-02dc-4243-a428-464b88856b69",
   "metadata": {},
   "outputs": [
    {
     "data": {
      "text/plain": [
       "<Figure size 1000x600 with 0 Axes>"
      ]
     },
     "metadata": {},
     "output_type": "display_data"
    },
    {
     "data": {
      "image/png": "[encoded data removed]",
      "text/plain": [
       "<Figure size 1000x600 with 1 Axes>"
      ]
     },
     "metadata": {},
     "output_type": "display_data"
    },
    {
     "data": {
      "text/plain": [
       "<Figure size 1000x600 with 0 Axes>"
      ]
     },
     "metadata": {},
     "output_type": "display_data"
    },
    {
     "data": {
      "image/png": "[encoded data removed]",
      "text/plain": [
       "<Figure size 1000x600 with 1 Axes>"
      ]
     },
     "metadata": {},
     "output_type": "display_data"
    },
    {
     "data": {
      "text/plain": [
       "<Figure size 1000x600 with 0 Axes>"
      ]
     },
     "metadata": {},
     "output_type": "display_data"
    },
    {
     "data": {
      "image/png": "[encoded data removed]",
      "text/plain": [
       "<Figure size 1000x600 with 1 Axes>"
      ]
     },
     "metadata": {},
     "output_type": "display_data"
    },
    {
     "data": {
      "text/plain": [
       "<Figure size 1000x600 with 0 Axes>"
      ]
     },
     "metadata": {},
     "output_type": "display_data"
    },
    {
     "data": {
      "image/png": "[encoded data removed]",
      "text/plain": [
       "<Figure size 1000x600 with 1 Axes>"
      ]
     },
     "metadata": {},
     "output_type": "display_data"
    },
    {
     "data": {
      "text/plain": [
       "<Figure size 1000x600 with 0 Axes>"
      ]
     },
     "metadata": {},
     "output_type": "display_data"
    },
    {
     "data": {
      "image/png": "[encoded data removed]",
      "text/plain": [
       "<Figure size 1000x600 with 1 Axes>"
      ]
     },
     "metadata": {},
     "output_type": "display_data"
    },
    {
     "data": {
      "text/plain": [
       "<Figure size 1000x600 with 0 Axes>"
      ]
     },
     "metadata": {},
     "output_type": "display_data"
    },
    {
     "data": {
      "image/png": "[encoded data removed]",
      "text/plain": [
       "<Figure size 1000x600 with 1 Axes>"
      ]
     },
     "metadata": {},
     "output_type": "display_data"
    },
    {
     "data": {
      "text/plain": [
       "<Figure size 1000x600 with 0 Axes>"
      ]
     },
     "metadata": {},
     "output_type": "display_data"
    },
    {
     "data": {
      "image/png": "[encoded data removed]",
      "text/plain": [
       "<Figure size 1000x600 with 1 Axes>"
      ]
     },
     "metadata": {},
     "output_type": "display_data"
    },
    {
     "data": {
      "text/plain": [
       "<Figure size 1000x600 with 0 Axes>"
      ]
     },
     "metadata": {},
     "output_type": "display_data"
    },
    {
     "data": {
      "image/png": "[encoded data removed]",
      "text/plain": [
       "<Figure size 1000x600 with 1 Axes>"
      ]
     },
     "metadata": {},
     "output_type": "display_data"
    }
   ],
   "source": [
    "# 각 특성의 분포를 시각화하기 위해 함수 적용\n",
    "feature_list = [x for x in binned_df.columns if x != \"Outcome\"]\n",
    "\n",
    "for feature in feature_list:\n",
    "    df_feature_outcome = create_feature_outcome_dataframe(feature)\n",
    "    visualize_feature_outcome(df_feature_outcome, feature)"
   ]
  },
  {
   "cell_type": "markdown",
   "id": "676b6bbe-98fc-4ec2-98db-7ab470b9c79b",
   "metadata": {},
   "source": [
    "# Key Insights from Data Analysis\n",
    "\n",
    "## Pregnancies\n",
    "- **Survived (Outcome=1):** 1-3회 임신 구간에서 생존율이 높게 나타남.\n",
    "- **Dead (Outcome=0):** 8-10회 임신 구간에서 사망률이 높음.\n",
    "- **Meaning:** 적정 임신 횟수가 건강에 긍정적 영향을 미칠 수 있으며, 다산은 부정적 요인이 될 수 있음.\n",
    "\n",
    "## Glucose\n",
    "- **Survived:** 99-119mg/dL 구간에서 생존율이 높음.\n",
    "- **Dead:** 159-179mg/dL 이상의 고혈당 구간에서 사망률이 높음.\n",
    "- **Meaning:** 적정 혈당 유지가 당뇨 위험 감소와 생존율 향상에 중요.\n",
    "\n",
    "## BloodPressure\n",
    "- **Survived:** 73-85mmHg 구간에서 생존율이 높음.\n",
    "- **Dead:** 고혈압 또는 저혈압 구간에서 사망률이 높음.\n",
    "- **Meaning:** 혈압 조절 실패는 당뇨와 관련된 부정적 영향을 시사.\n",
    "\n",
    "## SkinThickness\n",
    "- **Survived:** 18-25mm 구간에서 생존율이 높음.\n",
    "- **Dead:** 비정상적인 두께(0-6mm 또는 매우 높음)에서 사망률이 증가.\n",
    "- **Meaning:** 피하지방 두께는 대사 건강과 밀접한 연관이 있음.\n",
    "\n",
    "## Insulin\n",
    "- **Survived:** 84-169pmol/L 구간에서 생존율이 높음.\n",
    "- **Dead:** 낮은 인슐린 농도(0-84pmol/L)에서 사망률이 높음.\n",
    "- **Meaning:** 인슐린 농도 조절은 생존율 향상에 긍정적 영향을 미칠 수 있음.\n",
    "\n",
    "## BMI\n",
    "- **Survived:** 26-33 구간에서 생존율이 높음.\n",
    "- **Dead:** 40-46 구간에서 사망률이 높음.\n",
    "- **Meaning:** 정상 BMI 유지는 생존율 증가와 밀접한 관련이 있음.\n",
    "\n",
    "## DiabetesPedigreeFunction\n",
    "- **Survived:** 낮은 가계 병력 지수(0-0)에서 생존율이 높음.\n",
    "- **Dead:** 높은 병력 지수(1-1)에서 사망률이 높음.\n",
    "- **Meaning:** 가족력은 당뇨 발생 위험을 증가시킬 가능성이 큼.\n",
    "\n",
    "## Age\n",
    "- **Survived:** 30-45세 구간에서 생존율이 높음.\n",
    "- **Dead:** 60세 이상에서 사망률이 높음.\n",
    "- **Meaning:** 중년기 건강 관리가 중요하며, 고령은 부정적 요인으로 작용.\n"
   ]
  },
  {
   "cell_type": "markdown",
   "id": "cd1e17a0-4742-4911-b3af-37549cbbeccb",
   "metadata": {},
   "source": [
    "# Feature Engineering"
   ]
  },
  {
   "cell_type": "markdown",
   "id": "80020a40-9dac-469b-a4cf-1bdcf1859752",
   "metadata": {},
   "source": [
    "## 원핫 인코딩"
   ]
  },
  {
   "cell_type": "code",
   "execution_count": 166,
   "id": "eb1a3329-df7e-4266-bb2d-52fff7d8d3f8",
   "metadata": {},
   "outputs": [],
   "source": [
    "from sklearn.preprocessing import OneHotEncoder\n",
    "\n",
    "# Outcome 컬럼 제외한 데이터프레임 생성\n",
    "df_onehot = binned_df.drop(columns=[\"Outcome\"])\n",
    "\n",
    "\n",
    "# Outcome 값만 따로 저장\n",
    "df_y = binned_df[[\"Outcome\"]]\n",
    "\n",
    "# 원핫 인코딩 대상 컬럼 정의\n",
    "onehot_cols = [col for col in binned_df.columns if col != \"Outcome\"]\n",
    "\n",
    "# 원핫 인코딩 수행\n",
    "df_onehot = pd.get_dummies(df_onehot, columns=onehot_cols)"
   ]
  },
  {
   "cell_type": "code",
   "execution_count": 167,
   "id": "b4e5b880-c867-4511-bccd-dcf404c92326",
   "metadata": {},
   "outputs": [],
   "source": [
    "# 데이터 분할\n",
    "ntrain = 614\n",
    "X_train, X_test = df_onehot[:ntrain], df_onehot[ntrain:]\n",
    "y_train = df_y[:ntrain].values.ravel()  # 1차원 배열로 변환"
   ]
  },
  {
   "cell_type": "markdown",
   "id": "a972d4b8-7784-499f-bdef-5c373a74f087",
   "metadata": {},
   "source": [
    "# 트리 관련 모델 디폴트 테스트"
   ]
  },
  {
   "cell_type": "code",
   "execution_count": 168,
   "id": "b7125749-96fc-4ca0-9f54-d96915315aae",
   "metadata": {},
   "outputs": [
    {
     "name": "stdout",
     "output_type": "stream",
     "text": [
      "RandomForestClassifier 성능: 74.12%\n",
      "ExtraTreesClassifier 성능: 75.75%\n",
      "GradientBoostingClassifier 성능: 73.29%\n"
     ]
    }
   ],
   "source": [
    "from sklearn.model_selection import KFold, cross_val_score\n",
    "from sklearn.ensemble import RandomForestClassifier, ExtraTreesClassifier, GradientBoostingClassifier\n",
    "\n",
    "# 모델 정의\n",
    "random_model = RandomForestClassifier()\n",
    "extra_model = ExtraTreesClassifier()\n",
    "gbm_model = GradientBoostingClassifier()\n",
    "\n",
    "# KFold 정의\n",
    "k_fold = KFold(n_splits=10, shuffle=True, random_state=42)\n",
    "\n",
    "# 모델 테스트 함수\n",
    "def model_test(model):\n",
    "    model = model.fit(X_train, y_train)\n",
    "    score = cross_val_score(model, X_train, y_train, cv=k_fold, scoring='accuracy')\n",
    "    return np.mean(score) * 100\n",
    "\n",
    "# 모델 성능 비교\n",
    "tree_models = [random_model, extra_model, gbm_model]\n",
    "\n",
    "for model in tree_models:\n",
    "    result = model_test(model)\n",
    "    print(f\"{type(model).__name__} 성능: {result:.2f}%\")"
   ]
  },
  {
   "cell_type": "markdown",
   "id": "70188cd7-2d56-4099-8108-c0d58eb1d607",
   "metadata": {},
   "source": [
    "# 트리 관련 모델 중요도 측정"
   ]
  },
  {
   "cell_type": "code",
   "execution_count": 169,
   "id": "8f8166c8-5398-43e1-9b8a-34b4047d72d3",
   "metadata": {},
   "outputs": [
    {
     "name": "stdout",
     "output_type": "stream",
     "text": [
      "\n",
      "RandomForestClassifier:\n",
      "Feature Importances: [0.02059305 0.01211188 0.01502016 0.01145949 0.01242002 0.01208454\n",
      " 0.01381823 0.01692729 0.00587372 0.00258746 0.0041506  0.0029595\n",
      " 0.00167862 0.00045624 0.00038307 0.00018002 0.00263125 0.00539896\n",
      " 0.01655704 0.01678577 0.02558307 0.01802889 0.01727078 0.01900556\n",
      " 0.01788527 0.00986975 0.02826273 0.02470721 0.02859722 0.01373642\n",
      " 0.00127854 0.         0.00020622 0.00452807 0.00585968 0.00952972\n",
      " 0.01564156 0.02370811 0.01598009 0.01483654 0.00937534 0.00470177\n",
      " 0.00203253 0.00168143 0.         0.00443189 0.01049518 0.01033638\n",
      " 0.02044746 0.01764422 0.01522773 0.00865862 0.00314909 0.0003182\n",
      " 0.00065676 0.         0.         0.         0.         0.00088898\n",
      " 0.0191975  0.01484364 0.018539   0.01129265 0.00692228 0.00524149\n",
      " 0.00193145 0.0001144  0.00270665 0.00094961 0.00100076 0.\n",
      " 0.0008321  0.00069143 0.0005982  0.00685954 0.02181921 0.02189224\n",
      " 0.01748255 0.02124707 0.01751103 0.01307684 0.01463802 0.00543913\n",
      " 0.00560038 0.0035189  0.00170206 0.00098989 0.         0.0011013\n",
      " 0.01335708 0.0063067  0.00785019 0.         0.00257915 0.03861702\n",
      " 0.01710857 0.01584509 0.01275718 0.01648177 0.01369072 0.00664739\n",
      " 0.0091874  0.00646918 0.00701938 0.00664559 0.00260389 0.00018749\n",
      " 0.         0.00026898]\n",
      "Max Importance: 0.0386 (Feature Index: 95)\n",
      "\n",
      "ExtraTreesClassifier:\n",
      "Feature Importances: [2.18678035e-02 1.33017932e-02 1.50647979e-02 1.22374647e-02\n",
      " 1.36901688e-02 1.11368999e-02 1.14359259e-02 1.50547473e-02\n",
      " 8.47590185e-03 2.36436904e-03 3.64278837e-03 2.38760065e-03\n",
      " 1.65980949e-03 7.73540650e-04 3.72057400e-04 9.08437977e-05\n",
      " 3.09993204e-03 6.28726975e-03 1.73131100e-02 1.69796129e-02\n",
      " 2.20844785e-02 1.78593081e-02 1.61683320e-02 1.89475418e-02\n",
      " 1.68344991e-02 8.10950240e-03 2.97900107e-02 2.58675398e-02\n",
      " 3.02895082e-02 1.54291353e-02 1.58556890e-03 0.00000000e+00\n",
      " 3.35300195e-04 4.30075051e-03 4.70840135e-03 9.94070902e-03\n",
      " 1.49652233e-02 2.28319790e-02 1.82052503e-02 1.44237718e-02\n",
      " 8.97751076e-03 5.05733341e-03 1.66944295e-03 1.94312034e-03\n",
      " 6.98659348e-06 3.94355935e-03 1.03574319e-02 1.21656746e-02\n",
      " 2.11515741e-02 1.66482537e-02 1.30319371e-02 8.60172517e-03\n",
      " 3.17069376e-03 3.92600218e-04 5.27844669e-04 0.00000000e+00\n",
      " 0.00000000e+00 0.00000000e+00 0.00000000e+00 5.92645791e-04\n",
      " 1.96001859e-02 1.48010346e-02 1.95577330e-02 1.04601741e-02\n",
      " 6.67080895e-03 4.44996469e-03 2.67239935e-03 3.25829314e-05\n",
      " 1.84933118e-03 5.31156597e-04 7.69267313e-04 0.00000000e+00\n",
      " 8.48903829e-04 4.67496802e-04 4.12040442e-04 8.99113048e-03\n",
      " 2.54192123e-02 2.24572816e-02 1.97618295e-02 2.11853760e-02\n",
      " 1.96328789e-02 1.30709647e-02 1.23265774e-02 5.38960039e-03\n",
      " 8.07047207e-03 3.41244763e-03 1.31196428e-03 6.47279937e-04\n",
      " 0.00000000e+00 6.92727660e-04 1.45780385e-02 5.48097086e-03\n",
      " 7.11361848e-03 0.00000000e+00 2.60271802e-03 4.00445683e-02\n",
      " 1.65314925e-02 1.39961814e-02 1.20285272e-02 1.20745382e-02\n",
      " 1.32028001e-02 7.12001477e-03 8.54573191e-03 4.81479116e-03\n",
      " 8.24844656e-03 7.07719119e-03 2.67172825e-03 1.09726430e-04\n",
      " 0.00000000e+00 1.14511952e-04]\n",
      "Max Importance: 0.0400 (Feature Index: 95)\n",
      "\n",
      "GradientBoostingClassifier:\n",
      "Feature Importances: [3.60120272e-04 0.00000000e+00 1.10098586e-03 1.20306947e-02\n",
      " 3.92610443e-03 3.93917526e-03 1.45117229e-02 2.07536410e-02\n",
      " 8.71824963e-03 0.00000000e+00 2.75176446e-03 2.15765490e-03\n",
      " 4.52549157e-03 0.00000000e+00 0.00000000e+00 0.00000000e+00\n",
      " 7.18859324e-03 1.14776556e-02 2.52831115e-02 2.27412184e-02\n",
      " 4.77372100e-02 5.95910029e-03 3.76499373e-03 2.01168062e-02\n",
      " 8.77728808e-03 6.28143695e-03 6.49004209e-02 6.89520001e-02\n",
      " 8.11914221e-02 3.51662166e-02 0.00000000e+00 0.00000000e+00\n",
      " 0.00000000e+00 1.19006823e-03 0.00000000e+00 3.48903867e-04\n",
      " 8.92984911e-04 3.90438018e-03 5.32282528e-03 1.98803335e-02\n",
      " 5.23827398e-04 6.79173962e-03 0.00000000e+00 0.00000000e+00\n",
      " 0.00000000e+00 4.74562171e-07 4.74256286e-03 1.69247738e-03\n",
      " 2.63274260e-03 7.30809284e-03 1.74733152e-03 9.65188057e-03\n",
      " 2.26467473e-03 0.00000000e+00 0.00000000e+00 0.00000000e+00\n",
      " 0.00000000e+00 0.00000000e+00 0.00000000e+00 0.00000000e+00\n",
      " 2.88596222e-02 1.17760409e-02 9.74297756e-03 2.52550735e-03\n",
      " 4.73994306e-03 1.13146003e-03 2.49845617e-03 0.00000000e+00\n",
      " 6.81644081e-04 4.82190524e-04 0.00000000e+00 0.00000000e+00\n",
      " 2.45506961e-03 2.09348172e-03 0.00000000e+00 1.65657429e-02\n",
      " 6.28143661e-02 2.61346353e-02 2.86888952e-03 7.92711871e-03\n",
      " 1.21330599e-02 7.00220139e-04 1.53791695e-02 0.00000000e+00\n",
      " 4.26065448e-03 7.33079377e-03 7.24942654e-03 0.00000000e+00\n",
      " 0.00000000e+00 1.11034207e-03 2.07081336e-02 0.00000000e+00\n",
      " 1.74538779e-03 0.00000000e+00 0.00000000e+00 1.10828350e-01\n",
      " 1.51879052e-02 8.07370651e-03 9.11379875e-03 2.12158432e-03\n",
      " 1.16924276e-02 5.49512940e-03 2.96827900e-03 0.00000000e+00\n",
      " 1.01342862e-02 1.10555907e-02 6.20623011e-03 0.00000000e+00\n",
      " 0.00000000e+00 0.00000000e+00]\n",
      "Max Importance: 0.1108 (Feature Index: 95)\n"
     ]
    }
   ],
   "source": [
    "# 모델별 특성 중요도 출력\n",
    "for model in tree_models:\n",
    "    print(f\"\\n{model.__class__.__name__}:\")\n",
    "    try:\n",
    "        # 특성 중요도 출력\n",
    "        importances = model.feature_importances_\n",
    "        print(f\"Feature Importances: {importances}\")\n",
    "        # 최대 중요도 특성과 값 출력\n",
    "        max_importance = np.max(importances)\n",
    "        max_feature_idx = np.argmax(importances)\n",
    "        print(f\"Max Importance: {max_importance:.4f} (Feature Index: {max_feature_idx})\")\n",
    "    except AttributeError as e:\n",
    "        # feature_importances_ 속성이 없는 경우\n",
    "        print(\"Feature importances not available.\")\n",
    "        print(f\"Error: {e}\")"
   ]
  },
  {
   "cell_type": "code",
   "execution_count": 170,
   "id": "4a9b09e0-1c66-42e3-a94c-1d38f6ef0f63",
   "metadata": {},
   "outputs": [
    {
     "data": {
      "text/html": [
       "<div>\n",
       "<style scoped>\n",
       "    .dataframe tbody tr th:only-of-type {\n",
       "        vertical-align: middle;\n",
       "    }\n",
       "\n",
       "    .dataframe tbody tr th {\n",
       "        vertical-align: top;\n",
       "    }\n",
       "\n",
       "    .dataframe thead th {\n",
       "        text-align: right;\n",
       "    }\n",
       "</style>\n",
       "<table border=\"1\" class=\"dataframe\">\n",
       "  <thead>\n",
       "    <tr style=\"text-align: right;\">\n",
       "      <th></th>\n",
       "      <th>Feature</th>\n",
       "      <th>avg</th>\n",
       "    </tr>\n",
       "  </thead>\n",
       "  <tbody>\n",
       "    <tr>\n",
       "      <th>95</th>\n",
       "      <td>Age_20-25</td>\n",
       "      <td>0.063163</td>\n",
       "    </tr>\n",
       "    <tr>\n",
       "      <th>28</th>\n",
       "      <td>Glucose_178-188</td>\n",
       "      <td>0.046693</td>\n",
       "    </tr>\n",
       "    <tr>\n",
       "      <th>26</th>\n",
       "      <td>Glucose_157-168</td>\n",
       "      <td>0.040984</td>\n",
       "    </tr>\n",
       "    <tr>\n",
       "      <th>27</th>\n",
       "      <td>Glucose_168-178</td>\n",
       "      <td>0.039842</td>\n",
       "    </tr>\n",
       "    <tr>\n",
       "      <th>76</th>\n",
       "      <td>BMI_21-24</td>\n",
       "      <td>0.036684</td>\n",
       "    </tr>\n",
       "    <tr>\n",
       "      <th>...</th>\n",
       "      <td>...</td>\n",
       "      <td>...</td>\n",
       "    </tr>\n",
       "    <tr>\n",
       "      <th>58</th>\n",
       "      <td>SkinThickness_86-92</td>\n",
       "      <td>0.000000</td>\n",
       "    </tr>\n",
       "    <tr>\n",
       "      <th>57</th>\n",
       "      <td>SkinThickness_80-86</td>\n",
       "      <td>0.000000</td>\n",
       "    </tr>\n",
       "    <tr>\n",
       "      <th>88</th>\n",
       "      <td>BMI_60-63</td>\n",
       "      <td>0.000000</td>\n",
       "    </tr>\n",
       "    <tr>\n",
       "      <th>93</th>\n",
       "      <td>DiabetesPedigreeFunction_1-2</td>\n",
       "      <td>0.000000</td>\n",
       "    </tr>\n",
       "    <tr>\n",
       "      <th>108</th>\n",
       "      <td>Age_73-77</td>\n",
       "      <td>0.000000</td>\n",
       "    </tr>\n",
       "  </tbody>\n",
       "</table>\n",
       "<p>110 rows × 2 columns</p>\n",
       "</div>"
      ],
      "text/plain": [
       "                          Feature       avg\n",
       "95                      Age_20-25  0.063163\n",
       "28                Glucose_178-188  0.046693\n",
       "26                Glucose_157-168  0.040984\n",
       "27                Glucose_168-178  0.039842\n",
       "76                      BMI_21-24  0.036684\n",
       "..                            ...       ...\n",
       "58            SkinThickness_86-92  0.000000\n",
       "57            SkinThickness_80-86  0.000000\n",
       "88                      BMI_60-63  0.000000\n",
       "93   DiabetesPedigreeFunction_1-2  0.000000\n",
       "108                     Age_73-77  0.000000\n",
       "\n",
       "[110 rows x 2 columns]"
      ]
     },
     "execution_count": 170,
     "metadata": {},
     "output_type": "execute_result"
    }
   ],
   "source": [
    "# 각 모델의 중요도를 데이터프레임으로 변환\n",
    "random_model_importance = pd.DataFrame({'Feature': X_train.columns, 'random_model': random_model.feature_importances_})\n",
    "extra_model_importance = pd.DataFrame({'Feature': X_train.columns, 'extra_model': extra_model.feature_importances_})\n",
    "gbm_model_importance = pd.DataFrame({'Feature': X_train.columns, 'gbm_model': gbm_model.feature_importances_})\n",
    "\n",
    "# 각 데이터프레임을 순차적으로 병합\n",
    "importances = pd.merge(random_model_importance, extra_model_importance, on='Feature')\n",
    "importances = pd.merge(importances, gbm_model_importance, on='Feature')\n",
    "\n",
    "# 숫자형 컬럼 선택 후 평균 계산\n",
    "numeric_columns = [col for col in importances.columns if col != 'Feature']\n",
    "importances['avg'] = importances[numeric_columns].mean(axis=1)\n",
    "\n",
    "# 최종 데이터프레임 구성\n",
    "importances = importances[['Feature', 'avg']].sort_values(by='avg', ascending=False)\n",
    "importances"
   ]
  },
  {
   "cell_type": "code",
   "execution_count": 171,
   "id": "5b7a26f5-290a-47e5-a48c-1c7980c80f6c",
   "metadata": {},
   "outputs": [],
   "source": [
    "#중요도가 높은 feature만 선택\n",
    "importances = importances[:60]"
   ]
  },
  {
   "cell_type": "code",
   "execution_count": 172,
   "id": "42417f25-3040-47cb-a66d-f0fb118fc271",
   "metadata": {},
   "outputs": [],
   "source": [
    "train_importance = X_train[list(importances['Feature'])]\n",
    "test_importance = X_test[list(importances['Feature'])]"
   ]
  },
  {
   "cell_type": "code",
   "execution_count": 173,
   "id": "69d0e358-a700-4441-9898-9d77bd8cb7e2",
   "metadata": {},
   "outputs": [
    {
     "data": {
      "text/html": [
       "<div>\n",
       "<style scoped>\n",
       "    .dataframe tbody tr th:only-of-type {\n",
       "        vertical-align: middle;\n",
       "    }\n",
       "\n",
       "    .dataframe tbody tr th {\n",
       "        vertical-align: top;\n",
       "    }\n",
       "\n",
       "    .dataframe thead th {\n",
       "        text-align: right;\n",
       "    }\n",
       "</style>\n",
       "<table border=\"1\" class=\"dataframe\">\n",
       "  <thead>\n",
       "    <tr style=\"text-align: right;\">\n",
       "      <th></th>\n",
       "      <th>Age_20-25</th>\n",
       "      <th>Glucose_178-188</th>\n",
       "      <th>Glucose_157-168</th>\n",
       "      <th>Glucose_168-178</th>\n",
       "      <th>BMI_21-24</th>\n",
       "      <th>Glucose_95-106</th>\n",
       "      <th>BMI_24-27</th>\n",
       "      <th>Insulin_13-69</th>\n",
       "      <th>Glucose_188-199</th>\n",
       "      <th>Glucose_75-85</th>\n",
       "      <th>...</th>\n",
       "      <th>SkinThickness_19-25</th>\n",
       "      <th>Glucose_64-75</th>\n",
       "      <th>Pregnancies_9-10</th>\n",
       "      <th>Age_49-53</th>\n",
       "      <th>BloodPressure_56-63</th>\n",
       "      <th>Age_45-49</th>\n",
       "      <th>BloodPressure_89-95</th>\n",
       "      <th>Insulin_235-291</th>\n",
       "      <th>BMI_47-50</th>\n",
       "      <th>DiabetesPedigreeFunction_1-1</th>\n",
       "    </tr>\n",
       "  </thead>\n",
       "  <tbody>\n",
       "    <tr>\n",
       "      <th>0</th>\n",
       "      <td>False</td>\n",
       "      <td>False</td>\n",
       "      <td>False</td>\n",
       "      <td>False</td>\n",
       "      <td>False</td>\n",
       "      <td>False</td>\n",
       "      <td>False</td>\n",
       "      <td>False</td>\n",
       "      <td>False</td>\n",
       "      <td>False</td>\n",
       "      <td>...</td>\n",
       "      <td>False</td>\n",
       "      <td>False</td>\n",
       "      <td>False</td>\n",
       "      <td>True</td>\n",
       "      <td>False</td>\n",
       "      <td>False</td>\n",
       "      <td>False</td>\n",
       "      <td>False</td>\n",
       "      <td>False</td>\n",
       "      <td>False</td>\n",
       "    </tr>\n",
       "    <tr>\n",
       "      <th>1</th>\n",
       "      <td>False</td>\n",
       "      <td>False</td>\n",
       "      <td>False</td>\n",
       "      <td>False</td>\n",
       "      <td>False</td>\n",
       "      <td>False</td>\n",
       "      <td>True</td>\n",
       "      <td>False</td>\n",
       "      <td>False</td>\n",
       "      <td>True</td>\n",
       "      <td>...</td>\n",
       "      <td>False</td>\n",
       "      <td>False</td>\n",
       "      <td>False</td>\n",
       "      <td>False</td>\n",
       "      <td>False</td>\n",
       "      <td>False</td>\n",
       "      <td>False</td>\n",
       "      <td>False</td>\n",
       "      <td>False</td>\n",
       "      <td>False</td>\n",
       "    </tr>\n",
       "    <tr>\n",
       "      <th>2</th>\n",
       "      <td>False</td>\n",
       "      <td>True</td>\n",
       "      <td>False</td>\n",
       "      <td>False</td>\n",
       "      <td>True</td>\n",
       "      <td>False</td>\n",
       "      <td>False</td>\n",
       "      <td>False</td>\n",
       "      <td>False</td>\n",
       "      <td>False</td>\n",
       "      <td>...</td>\n",
       "      <td>False</td>\n",
       "      <td>False</td>\n",
       "      <td>False</td>\n",
       "      <td>False</td>\n",
       "      <td>False</td>\n",
       "      <td>False</td>\n",
       "      <td>False</td>\n",
       "      <td>False</td>\n",
       "      <td>False</td>\n",
       "      <td>False</td>\n",
       "    </tr>\n",
       "    <tr>\n",
       "      <th>3</th>\n",
       "      <td>True</td>\n",
       "      <td>False</td>\n",
       "      <td>False</td>\n",
       "      <td>False</td>\n",
       "      <td>False</td>\n",
       "      <td>False</td>\n",
       "      <td>False</td>\n",
       "      <td>False</td>\n",
       "      <td>False</td>\n",
       "      <td>False</td>\n",
       "      <td>...</td>\n",
       "      <td>True</td>\n",
       "      <td>False</td>\n",
       "      <td>False</td>\n",
       "      <td>False</td>\n",
       "      <td>False</td>\n",
       "      <td>False</td>\n",
       "      <td>False</td>\n",
       "      <td>False</td>\n",
       "      <td>False</td>\n",
       "      <td>False</td>\n",
       "    </tr>\n",
       "    <tr>\n",
       "      <th>4</th>\n",
       "      <td>False</td>\n",
       "      <td>False</td>\n",
       "      <td>False</td>\n",
       "      <td>False</td>\n",
       "      <td>False</td>\n",
       "      <td>False</td>\n",
       "      <td>False</td>\n",
       "      <td>False</td>\n",
       "      <td>False</td>\n",
       "      <td>False</td>\n",
       "      <td>...</td>\n",
       "      <td>False</td>\n",
       "      <td>False</td>\n",
       "      <td>False</td>\n",
       "      <td>False</td>\n",
       "      <td>False</td>\n",
       "      <td>False</td>\n",
       "      <td>False</td>\n",
       "      <td>False</td>\n",
       "      <td>False</td>\n",
       "      <td>False</td>\n",
       "    </tr>\n",
       "  </tbody>\n",
       "</table>\n",
       "<p>5 rows × 60 columns</p>\n",
       "</div>"
      ],
      "text/plain": [
       "   Age_20-25  Glucose_178-188  Glucose_157-168  Glucose_168-178  BMI_21-24  \\\n",
       "0      False            False            False            False      False   \n",
       "1      False            False            False            False      False   \n",
       "2      False             True            False            False       True   \n",
       "3       True            False            False            False      False   \n",
       "4      False            False            False            False      False   \n",
       "\n",
       "   Glucose_95-106  BMI_24-27  Insulin_13-69  Glucose_188-199  Glucose_75-85  \\\n",
       "0           False      False          False            False          False   \n",
       "1           False       True          False            False           True   \n",
       "2           False      False          False            False          False   \n",
       "3           False      False          False            False          False   \n",
       "4           False      False          False            False          False   \n",
       "\n",
       "   ...  SkinThickness_19-25  Glucose_64-75  Pregnancies_9-10  Age_49-53  \\\n",
       "0  ...                False          False             False       True   \n",
       "1  ...                False          False             False      False   \n",
       "2  ...                False          False             False      False   \n",
       "3  ...                 True          False             False      False   \n",
       "4  ...                False          False             False      False   \n",
       "\n",
       "   BloodPressure_56-63  Age_45-49  BloodPressure_89-95  Insulin_235-291  \\\n",
       "0                False      False                False            False   \n",
       "1                False      False                False            False   \n",
       "2                False      False                False            False   \n",
       "3                False      False                False            False   \n",
       "4                False      False                False            False   \n",
       "\n",
       "   BMI_47-50  DiabetesPedigreeFunction_1-1  \n",
       "0      False                         False  \n",
       "1      False                         False  \n",
       "2      False                         False  \n",
       "3      False                         False  \n",
       "4      False                         False  \n",
       "\n",
       "[5 rows x 60 columns]"
      ]
     },
     "execution_count": 173,
     "metadata": {},
     "output_type": "execute_result"
    }
   ],
   "source": [
    "train_importance.head()"
   ]
  },
  {
   "cell_type": "markdown",
   "id": "30273171-4ba0-4677-b2ed-c021c1fd4161",
   "metadata": {},
   "source": [
    "# 중요도가 높은 feature로 다시 머신러닝 적용"
   ]
  },
  {
   "cell_type": "code",
   "execution_count": 174,
   "id": "731491b8-e010-4280-a9ae-de3b2e632f19",
   "metadata": {},
   "outputs": [
    {
     "name": "stdout",
     "output_type": "stream",
     "text": [
      "RandomForestClassifier 성능: 74.93%\n",
      "ExtraTreesClassifier 성능: 75.59%\n",
      "GradientBoostingClassifier 성능: 73.45%\n"
     ]
    }
   ],
   "source": [
    "# 모델 테스트 함수\n",
    "def model_test(model):\n",
    "    model = model.fit(train_importance, y_train)\n",
    "    score = cross_val_score(model, train_importance, y_train, cv=k_fold, scoring='accuracy')\n",
    "    return np.mean(score) * 100\n",
    "\n",
    "# 모델 성능 비교\n",
    "tree_models = [random_model, extra_model, gbm_model]\n",
    "\n",
    "for model in tree_models:\n",
    "    result = model_test(model)\n",
    "    print(f\"{type(model).__name__} 성능: {result:.2f}%\")\n"
   ]
  },
  {
   "cell_type": "markdown",
   "id": "db29671d-9420-4905-ad78-3459a0fbe254",
   "metadata": {},
   "source": [
    "# RandomizedSearchCV 및 GridSearchCV 탐색"
   ]
  },
  {
   "cell_type": "code",
   "execution_count": 175,
   "id": "9c6e01a4-cc0b-4e9d-8aec-edbf046cd3c2",
   "metadata": {},
   "outputs": [],
   "source": [
    "from sklearn.model_selection import RandomizedSearchCV, GridSearchCV\n",
    "from sklearn.metrics import accuracy_score\n",
    "from scipy.stats import randint\n",
    "\n",
    "#데이터 준비\n",
    "X_train = train_importance\n",
    "X_test = test_importance\n",
    "\n",
    "ntrain = 614\n",
    "y_train = df_y[:ntrain].values.ravel()  # 1차원 배열로 변환\n",
    "y_test = df_y[ntrain:].values.ravel()  # 1차원 배열로 변환\n",
    "\n",
    "# 교차 검증 설정\n",
    "cv = StratifiedKFold(n_splits=5, shuffle=True, random_state=42)"
   ]
  },
  {
   "cell_type": "code",
   "execution_count": 176,
   "id": "cd3d4593-24c6-4039-bdee-23205ab92451",
   "metadata": {},
   "outputs": [
    {
     "name": "stdout",
     "output_type": "stream",
     "text": [
      "Fitting 5 folds for each of 50 candidates, totalling 250 fits\n",
      "Best parameters: {'max_depth': 20, 'max_features': 'sqrt', 'min_samples_leaf': 1, 'min_samples_split': 3, 'n_estimators': 354}\n",
      "Best accuracy: 0.7589497534319606\n"
     ]
    }
   ],
   "source": [
    "# Random Forest 모델\n",
    "rf_model = RandomForestClassifier(random_state=42)\n",
    "\n",
    "# 하이퍼파라미터 범위 정의\n",
    "rf_param_distributions = {\n",
    "    'n_estimators': randint(100, 500),\n",
    "    'max_depth': [None, 10, 20, 30, 40],\n",
    "    'min_samples_split': randint(2, 10),\n",
    "    'min_samples_leaf': randint(1, 5),\n",
    "    'max_features': ['sqrt', 'log2', None]\n",
    "}\n",
    "\n",
    "# Randomized Search 실행\n",
    "rf_random_search = RandomizedSearchCV(\n",
    "    estimator=rf_model,\n",
    "    param_distributions=rf_param_distributions,\n",
    "    n_iter=50,  # 시도할 조합 개수\n",
    "    cv=cv,  # 교차 검증\n",
    "    scoring='accuracy',\n",
    "    random_state=42,\n",
    "    verbose=2,\n",
    "    n_jobs=-1\n",
    ")\n",
    "\n",
    "# 모델 훈련\n",
    "rf_random_search.fit(X_train, y_train)\n",
    "\n",
    "print(\"Best parameters:\", rf_random_search.best_params_)\n",
    "print(\"Best accuracy:\", rf_random_search.best_score_)\n"
   ]
  },
  {
   "cell_type": "code",
   "execution_count": 177,
   "id": "6ba64cf8-fd16-4438-8a9d-78187add8fa0",
   "metadata": {},
   "outputs": [
    {
     "name": "stdout",
     "output_type": "stream",
     "text": [
      "Fitting 5 folds for each of 243 candidates, totalling 1215 fits\n",
      "Best parameters: {'max_depth': None, 'max_features': 'sqrt', 'min_samples_leaf': 4, 'min_samples_split': 2, 'n_estimators': 300}\n",
      "Best accuracy: 0.7622684259629481\n"
     ]
    }
   ],
   "source": [
    "# Extra Trees 모델\n",
    "et_model = ExtraTreesClassifier(random_state=42)\n",
    "\n",
    "# 하이퍼파라미터 범위 정의\n",
    "et_param_grid = {\n",
    "    'n_estimators': [100, 200, 300],\n",
    "    'max_depth': [None, 10, 20],\n",
    "    'min_samples_split': [2, 5, 10],\n",
    "    'min_samples_leaf': [1, 2, 4],\n",
    "    'max_features': ['sqrt', 'log2', None]\n",
    "}\n",
    "\n",
    "# Grid Search 실행\n",
    "et_grid_search = GridSearchCV(\n",
    "    estimator=et_model,\n",
    "    param_grid=et_param_grid,\n",
    "    cv=cv,  # 교차 검증\n",
    "    scoring='accuracy',\n",
    "    verbose=2,\n",
    "    n_jobs=-1\n",
    ")\n",
    "\n",
    "# 모델 훈련\n",
    "et_grid_search.fit(X_train, y_train)\n",
    "\n",
    "print(\"Best parameters:\", et_grid_search.best_params_)\n",
    "print(\"Best accuracy:\", et_grid_search.best_score_)\n"
   ]
  },
  {
   "cell_type": "code",
   "execution_count": 178,
   "id": "f760b698-52c1-44c9-9e08-3fc4499863ff",
   "metadata": {},
   "outputs": [
    {
     "name": "stdout",
     "output_type": "stream",
     "text": [
      "Fitting 5 folds for each of 50 candidates, totalling 250 fits\n",
      "Best parameters: {'learning_rate': 0.01, 'max_depth': 3, 'min_samples_leaf': 3, 'min_samples_split': 2, 'n_estimators': 443, 'subsample': 0.6}\n",
      "Best accuracy: 0.7606157536985206\n"
     ]
    }
   ],
   "source": [
    "# Gradient Boosting 모델\n",
    "gb_model = GradientBoostingClassifier(random_state=42)\n",
    "\n",
    "# 하이퍼파라미터 범위 정의\n",
    "gb_param_distributions = {\n",
    "    'n_estimators': randint(100, 500),\n",
    "    'learning_rate': [0.01, 0.05, 0.1, 0.2],\n",
    "    'max_depth': [3, 5, 7],\n",
    "    'subsample': [0.6, 0.8, 1.0],\n",
    "    'min_samples_split': randint(2, 10),\n",
    "    'min_samples_leaf': randint(1, 5)\n",
    "}\n",
    "\n",
    "# Randomized Search 실행\n",
    "gb_random_search = RandomizedSearchCV(\n",
    "    estimator=gb_model,\n",
    "    param_distributions=gb_param_distributions,\n",
    "    n_iter=50,  # 시도할 조합 개수\n",
    "    cv=cv,  # 교차 검증\n",
    "    scoring='accuracy',\n",
    "    random_state=42,\n",
    "    verbose=2,\n",
    "    n_jobs=-1\n",
    ")\n",
    "\n",
    "# 모델 훈련\n",
    "gb_random_search.fit(X_train, y_train)\n",
    "\n",
    "print(\"Best parameters:\", gb_random_search.best_params_)\n",
    "print(\"Best accuracy:\", gb_random_search.best_score_)\n"
   ]
  },
  {
   "cell_type": "code",
   "execution_count": 179,
   "id": "66ccdf91-99b3-4c81-acf2-2dda0eb50425",
   "metadata": {},
   "outputs": [
    {
     "name": "stdout",
     "output_type": "stream",
     "text": [
      "\n",
      "최적 모델 성능 평가\n",
      "\n",
      "Random Forest Performance:\n",
      "Accuracy: 0.7403\n",
      "Precision: 0.7331\n",
      "Recall: 0.7403\n",
      "F1-Score: 0.7318\n",
      "\n",
      "Extra Trees Performance:\n",
      "Accuracy: 0.7468\n",
      "Precision: 0.7403\n",
      "Recall: 0.7468\n",
      "F1-Score: 0.7393\n",
      "\n",
      "Gradient Boosting Performance:\n",
      "Accuracy: 0.7338\n",
      "Precision: 0.7260\n",
      "Recall: 0.7338\n",
      "F1-Score: 0.7241\n"
     ]
    }
   ],
   "source": [
    "from sklearn.metrics import accuracy_score, precision_score, recall_score, f1_score\n",
    "\n",
    "# 최적 모델 성능 평가\n",
    "print(\"\\n최적 모델 성능 평가\")\n",
    "rf_best_model = rf_random_search.best_estimator_\n",
    "et_best_model = et_grid_search.best_estimator_\n",
    "gbm_best_model = gb_random_search.best_estimator_\n",
    "\n",
    "# Random Forest 성능\n",
    "rf_accuracy = accuracy_score(y_test, rf_best_model.predict(X_test))\n",
    "rf_precision = precision_score(y_test, rf_best_model.predict(X_test), average='weighted')\n",
    "rf_recall = recall_score(y_test, rf_best_model.predict(X_test), average='weighted')\n",
    "rf_f1 = f1_score(y_test, rf_best_model.predict(X_test), average='weighted')\n",
    "\n",
    "# Extra Trees 성능\n",
    "et_accuracy = accuracy_score(y_test, et_best_model.predict(X_test))\n",
    "et_precision = precision_score(y_test, et_best_model.predict(X_test), average='weighted')\n",
    "et_recall = recall_score(y_test, et_best_model.predict(X_test), average='weighted')\n",
    "et_f1 = f1_score(y_test, et_best_model.predict(X_test), average='weighted')\n",
    "\n",
    "# Gradient Boosting 성능\n",
    "gbm_accuracy = accuracy_score(y_test, gbm_best_model.predict(X_test))\n",
    "gbm_precision = precision_score(y_test, gbm_best_model.predict(X_test), average='weighted')\n",
    "gbm_recall = recall_score(y_test, gbm_best_model.predict(X_test), average='weighted')\n",
    "gbm_f1 = f1_score(y_test, gbm_best_model.predict(X_test), average='weighted')\n",
    "\n",
    "# 성능 출력\n",
    "print(\"\\nRandom Forest Performance:\")\n",
    "print(f\"Accuracy: {rf_accuracy:.4f}\")\n",
    "print(f\"Precision: {rf_precision:.4f}\")\n",
    "print(f\"Recall: {rf_recall:.4f}\")\n",
    "print(f\"F1-Score: {rf_f1:.4f}\")\n",
    "\n",
    "print(\"\\nExtra Trees Performance:\")\n",
    "print(f\"Accuracy: {et_accuracy:.4f}\")\n",
    "print(f\"Precision: {et_precision:.4f}\")\n",
    "print(f\"Recall: {et_recall:.4f}\")\n",
    "print(f\"F1-Score: {et_f1:.4f}\")\n",
    "\n",
    "print(\"\\nGradient Boosting Performance:\")\n",
    "print(f\"Accuracy: {gbm_accuracy:.4f}\")\n",
    "print(f\"Precision: {gbm_precision:.4f}\")\n",
    "print(f\"Recall: {gbm_recall:.4f}\")\n",
    "print(f\"F1-Score: {gbm_f1:.4f}\")"
   ]
  },
  {
   "cell_type": "markdown",
   "id": "fce0da6d-d31a-4593-841c-74736b207150",
   "metadata": {},
   "source": [
    "# 최적 모델 성능 평가\n",
    "\n",
    "## 주요 분석\n",
    "\n",
    "1. **모델별 성능 순위 (Accuracy 기준)**\n",
    "   - **1위:** Extra Trees (Accuracy: 0.7468)\n",
    "   - **2위:** Random Forest (Accuracy: 0.7403)\n",
    "   - **3위:** Gradient Boosting (Accuracy: 0.7338)\n",
    "\n",
    "2. **정확도(Accuracy)**\n",
    "   - Extra Trees가 가장 높은 정확도를 기록하여 전반적인 예측 성능이 우수함\n",
    "\n",
    "3. **정밀도(Precision)**\n",
    "   - Extra Trees(0.7403)가 False Positive를 효과적으로 줄였음을 나타냄\n",
    "   - Gradient Boosting(0.7260)은 Precision이 가장 낮아 오탐에 더 취약\n",
    "\n",
    "4. **재현율(Recall)**\n",
    "   - Extra Trees(0.7468)는 True Positive를 잘 잡아냈음을 보여줌\n",
    "   - Gradient Boosting은 Recall(0.7338)이 가장 낮음\n",
    "\n",
    "5. **F1-Score**\n",
    "   - Extra Trees(0.7393)가 Precision과 Recall 간의 균형이 가장 우수\n",
    "\n",
    "## 최종 결론\n",
    "- Extra Trees가 모든 지표에서 가장 우수하거나 근소한 차이로 우위를 보임"
   ]
  },
  {
   "cell_type": "markdown",
   "id": "736ca055-3c3a-44b6-be2e-ff18f0023fa8",
   "metadata": {},
   "source": [
    "# Voting(Hard, Soft)"
   ]
  },
  {
   "cell_type": "code",
   "execution_count": 188,
   "id": "3917cffb-794e-4437-875e-c420836055be",
   "metadata": {},
   "outputs": [],
   "source": [
    "from sklearn.ensemble import VotingClassifier\n",
    "\n",
    "# 최적화된 모델 준비\n",
    "rf_best_model = rf_random_search.best_estimator_  # RandomForest 최적 모델\n",
    "et_best_model = et_grid_search.best_estimator_  # ExtraTrees 최적 모델\n",
    "gbm_best_model = gb_random_search.best_estimator_  # GradientBoosting 최적 모델"
   ]
  },
  {
   "cell_type": "code",
   "execution_count": 189,
   "id": "93f9de7f-5648-42eb-b201-2e35015c6869",
   "metadata": {},
   "outputs": [
    {
     "name": "stdout",
     "output_type": "stream",
     "text": [
      "Hard Voting 시작\n",
      "Hard Voting Classifier Accuracy: 0.7403\n"
     ]
    }
   ],
   "source": [
    "# Hard Voting\n",
    "print(\"Hard Voting 시작\")\n",
    "voting_clf_hard = VotingClassifier(\n",
    "    estimators=[\n",
    "        ('RandomForest', rf_best_model),\n",
    "        ('ExtraTrees', et_best_model),\n",
    "        ('GradientBoosting', gbm_best_model)\n",
    "    ],\n",
    "    voting='hard'  # Hard Voting: 다수결 방식\n",
    ")\n",
    "\n",
    "voting_clf_hard.fit(X_train, y_train)  # 학습\n",
    "hard_predictions = voting_clf_hard.predict(X_test)  # 예측\n",
    "hard_accuracy = accuracy_score(y_test, hard_predictions)  # 정확도 계산\n",
    "\n",
    "print(f\"Hard Voting Classifier Accuracy: {hard_accuracy:.4f}\")\n"
   ]
  },
  {
   "cell_type": "code",
   "execution_count": 190,
   "id": "6d122673-625c-4686-88e2-07cdf0ed603f",
   "metadata": {},
   "outputs": [
    {
     "name": "stdout",
     "output_type": "stream",
     "text": [
      "\n",
      "Soft Voting 시작\n",
      "Soft Voting Classifier Accuracy: 0.7468\n"
     ]
    }
   ],
   "source": [
    "# Soft Voting\n",
    "print(\"\\nSoft Voting 시작\")\n",
    "voting_clf_soft = VotingClassifier(\n",
    "    estimators=[\n",
    "        ('RandomForest', rf_best_model),\n",
    "        ('ExtraTrees', et_best_model),\n",
    "        ('GradientBoosting', gbm_best_model)\n",
    "    ],\n",
    "    voting='soft'  # Soft Voting: 확률 평균 방식\n",
    ")\n",
    "\n",
    "voting_clf_soft.fit(X_train, y_train)  # 학습\n",
    "soft_predictions = voting_clf_soft.predict(X_test)  # 예측\n",
    "soft_accuracy = accuracy_score(y_test, soft_predictions)  # 정확도 계산\n",
    "\n",
    "print(f\"Soft Voting Classifier Accuracy: {soft_accuracy:.4f}\")"
   ]
  },
  {
   "cell_type": "code",
   "execution_count": 191,
   "id": "4c6263fe-c595-412b-b5fc-340ceae65194",
   "metadata": {},
   "outputs": [
    {
     "name": "stdout",
     "output_type": "stream",
     "text": [
      "\n",
      "Hard Voting & Soft Voting 성능 평가\n",
      "\n",
      "Voting 비교:\n",
      "Hard Voting - Accuracy: 0.7403, Precision: 0.7331, Recall: 0.7403, F1-Score: 0.7318\n",
      "Soft Voting - Accuracy: 0.7468, Precision: 0.7406, Recall: 0.7468, F1-Score: 0.7357\n"
     ]
    }
   ],
   "source": [
    "# Hard Voting & Soft Voting 성능 평가\n",
    "print(\"\\nHard Voting & Soft Voting 성능 평가\")\n",
    "hard_accuracy = accuracy_score(y_test, hard_predictions)\n",
    "soft_accuracy = accuracy_score(y_test, soft_predictions)\n",
    "\n",
    "hard_precision = precision_score(y_test, hard_predictions, average='weighted')\n",
    "soft_precision = precision_score(y_test, soft_predictions, average='weighted')\n",
    "\n",
    "hard_recall = recall_score(y_test, hard_predictions, average='weighted')\n",
    "soft_recall = recall_score(y_test, soft_predictions, average='weighted')\n",
    "\n",
    "hard_f1 = f1_score(y_test, hard_predictions, average='weighted')\n",
    "soft_f1 = f1_score(y_test, soft_predictions, average='weighted')\n",
    "\n",
    "print(\"\\nVoting 비교:\")\n",
    "print(f\"Hard Voting - Accuracy: {hard_accuracy:.4f}, Precision: {hard_precision:.4f}, Recall: {hard_recall:.4f}, F1-Score: {hard_f1:.4f}\")\n",
    "print(f\"Soft Voting - Accuracy: {soft_accuracy:.4f}, Precision: {soft_precision:.4f}, Recall: {soft_recall:.4f}, F1-Score: {soft_f1:.4f}\")\n"
   ]
  },
  {
   "cell_type": "markdown",
   "id": "880ba003-3e28-4d5e-89a3-a32f73e8a32b",
   "metadata": {},
   "source": [
    "# Hard Voting & Soft Voting 성능 비교\n",
    "\n",
    "## 주요 분석\n",
    "1. **Accuracy**\n",
    "   - Soft Voting의 Accuracy가 0.7468로 Hard Voting(0.7403)보다 약간 높게 나타남\n",
    "   - 이는 Soft Voting이 더 많은 정보(예측 확률)를 활용하기 때문에 모델의 전반적인 예측 성능에서 우위를 보였음을 의미\n",
    "\n",
    "2. **Precision**\n",
    "   - Precision은 Soft Voting(0.7406)이 Hard Voting(0.7331)보다 더 높음\n",
    "   - 이는 Soft Voting이 Positive 예측 중 실제로 Positive인 비율이 약간 더 높음을 나타냄\n",
    "\n",
    "3. **Recall**\n",
    "   - Recall도 Soft Voting(0.7468)이 Hard Voting(0.7403)보다 높은 성능을 기록\n",
    "   - Soft Voting이 더 많은 Positive 샘플을 정확히 예측했음을 보여줌\n",
    "\n",
    "4. **F1-Score**\n",
    "   - Hard Voting의 F1-Score는 0.7318, Soft Voting은 0.7357로 약간 높은 결과를 보임\n",
    "   - Precision과 Recall의 균형 면에서도 Soft Voting이 더 나은 성능을 제공\n",
    "\n",
    "## 최종 결론\n",
    "- **Soft Voting**은 모든 성능 지표에서 **Hard Voting**보다 일관되게 높은 점수를 기록\n",
    "- 특히 Accuracy와 Recall에서 눈에 띄는 향상을 보였으며, 이는 Soft Voting이 모델의 예측 확률을 활용하여 보다 정교한 의사 결정을 내릴 수 있음을 시사\n",
    "- 최종적으로 **Soft Voting**을 사용하는 것이 더 효과적일 가능성이 높음"
   ]
  }
 ],
 "metadata": {
  "kernelspec": {
   "display_name": "Python 3 (ipykernel)",
   "language": "python",
   "name": "python3"
  },
  "language_info": {
   "codemirror_mode": {
    "name": "ipython",
    "version": 3
   },
   "file_extension": ".py",
   "mimetype": "text/x-python",
   "name": "python",
   "nbconvert_exporter": "python",
   "pygments_lexer": "ipython3",
   "version": "3.12.3"
  }
 },
 "nbformat": 4,
 "nbformat_minor": 5
}
